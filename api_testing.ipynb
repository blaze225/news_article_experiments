{
 "cells": [
  {
   "cell_type": "code",
   "execution_count": 2,
   "metadata": {},
   "outputs": [],
   "source": [
    "import requests\n",
    "import time"
   ]
  },
  {
   "cell_type": "markdown",
   "metadata": {},
   "source": [
    "# NY Times"
   ]
  },
  {
   "cell_type": "code",
   "execution_count": 2,
   "metadata": {},
   "outputs": [],
   "source": [
    "# NY TIMES API \n",
    "api_key = 'gkHhhsov9LrY3D0rs7UybUHaytbIAmve'"
   ]
  },
  {
   "cell_type": "code",
   "execution_count": 27,
   "metadata": {},
   "outputs": [
    {
     "data": {
      "text/plain": [
       "'https://api.nytimes.com/svc/archive/v1/2015/1.json?&api-key=gkHhhsov9LrY3D0rs7UybUHaytbIAmve'"
      ]
     },
     "execution_count": 27,
     "metadata": {},
     "output_type": "execute_result"
    }
   ],
   "source": [
    "# Getting all articles from a specific year and month\n",
    "month = '1'\n",
    "year = '2015'\n",
    "url = 'https://api.nytimes.com/svc/archive/v1/'+year+'/'+month+'.json?&api-key='+api_key\n",
    "url"
   ]
  },
  {
   "cell_type": "code",
   "execution_count": 28,
   "metadata": {},
   "outputs": [
    {
     "name": "stdout",
     "output_type": "stream",
     "text": [
      "<Response [200]>\n"
     ]
    }
   ],
   "source": [
    "response = requests.get(url)\n",
    "print(response)"
   ]
  },
  {
   "cell_type": "code",
   "execution_count": 29,
   "metadata": {},
   "outputs": [],
   "source": [
    "result = response.json()"
   ]
  },
  {
   "cell_type": "code",
   "execution_count": 30,
   "metadata": {},
   "outputs": [
    {
     "data": {
      "text/plain": [
       "11698"
      ]
     },
     "execution_count": 30,
     "metadata": {},
     "output_type": "execute_result"
    }
   ],
   "source": [
    "# Number of articles retreived in a single call\n",
    "articles = result['response']['docs']\n",
    "len(articles)"
   ]
  },
  {
   "cell_type": "code",
   "execution_count": 45,
   "metadata": {},
   "outputs": [
    {
     "data": {
      "text/plain": [
       "dict_keys(['web_url', 'snippet', 'abstract', 'print_page', 'blog', 'source', 'multimedia', 'headline', 'keywords', 'pub_date', 'document_type', 'news_desk', 'section_name', 'byline', 'type_of_material', '_id', 'word_count', 'score'])"
      ]
     },
     "execution_count": 45,
     "metadata": {},
     "output_type": "execute_result"
    }
   ],
   "source": [
    "articles[1001].keys()"
   ]
  },
  {
   "cell_type": "code",
   "execution_count": 46,
   "metadata": {},
   "outputs": [
    {
     "name": "stdout",
     "output_type": "stream",
     "text": [
      "News types: ['Slideshow', 'Interactive Feature', 'Video', 'Blog', 'Paid Death Notice', 'News', 'Op-Ed', 'Schedule', 'List', 'Letter', 'Review', 'Brief', 'Editorial', 'Quote', 'Obituary', 'Question', 'Text', 'Biography', 'An Analysis; News Analysis', 'Correction', 'Obituary (Obit)', 'News Analysis', 'Interview', 'An Appraisal', 'Special Report']\n"
     ]
    }
   ],
   "source": [
    "# Checking possible article types via 'type_of_material'\n",
    "material_types = []\n",
    "for a in articles:\n",
    "    try:\n",
    "        if a['type_of_material'] not in material_types:\n",
    "            material_types.append(a['type_of_material'])\n",
    "    except:\n",
    "        pass\n",
    "    \n",
    "print(\"News types:\", material_types)"
   ]
  },
  {
   "cell_type": "code",
   "execution_count": 55,
   "metadata": {},
   "outputs": [
    {
     "name": "stdout",
     "output_type": "stream",
     "text": [
      "27 ( 0.2308086852453411 %)\n"
     ]
    }
   ],
   "source": [
    "# Counting articles which dont have 'type_of_material' : Very Less\n",
    "# Bad Data\n",
    "count=0\n",
    "for a in articles:\n",
    "    try:\n",
    "        if a['type_of_material']:\n",
    "            pass\n",
    "    except:\n",
    "       count+=1\n",
    "print(count ,\"(\", (count/len(articles))*100,\"%)\")"
   ]
  },
  {
   "cell_type": "code",
   "execution_count": 19,
   "metadata": {},
   "outputs": [
    {
     "name": "stdout",
     "output_type": "stream",
     "text": [
      "https://www.nytimes.com/2019/01/03/world/australia/david-goldblatt-photography-sydney.html\n"
     ]
    }
   ],
   "source": [
    "# Verifying usable article types by checking links manually\n",
    "# 'type_of_material' Review is not needed\n",
    "# Usable article types: News, Op-Ed, Editorial, News Analysis\n",
    "for a in articles:\n",
    "    try:\n",
    "        if a['type_of_material'] == 'Newsletter':\n",
    "            print(a['web_url'])\n",
    "            break\n",
    "    except:\n",
    "        pass"
   ]
  },
  {
   "cell_type": "code",
   "execution_count": 58,
   "metadata": {},
   "outputs": [
    {
     "name": "stdout",
     "output_type": "stream",
     "text": [
      "% articles that will be considered: 44.452043084287915\n"
     ]
    }
   ],
   "source": [
    "# Usable 'type_of_material':\n",
    "article_filter = ['News', 'Op-Ed', 'News Analysis', 'Editorial']\n",
    "consider=0\n",
    "for a in articles:\n",
    "    try:\n",
    "        if a['type_of_material'] in article_filter:\n",
    "            consider+=1\n",
    "    except:\n",
    "        pass\n",
    "\n",
    "print(\"% articles that will be considered:\",(consider/len(articles))*100)"
   ]
  },
  {
   "cell_type": "code",
   "execution_count": 11,
   "metadata": {},
   "outputs": [
    {
     "data": {
      "text/plain": [
       "{'web_url': 'https://www.nytimes.com/2019/01/03/opinion/house-democrats-watergate-1974.html',\n",
       " 'snippet': 'New House members should study how their earlier counterparts saw their jobs and their relationship to constituents. For starters, keep it local. ',\n",
       " 'lead_paragraph': 'New House members should study how their earlier counterparts saw their jobs and their relationship to constituents. For starters, keep it local. ',\n",
       " 'print_page': '19',\n",
       " 'blog': [],\n",
       " 'source': 'The New York Times',\n",
       " 'multimedia': [{'rank': 0,\n",
       "   'subtype': 'xlarge',\n",
       "   'caption': None,\n",
       "   'credit': None,\n",
       "   'type': 'image',\n",
       "   'url': 'images/2019/01/03/opinion/03Schmitt/03Schmitt-articleLarge.jpg',\n",
       "   'height': 390,\n",
       "   'width': 600,\n",
       "   'legacy': {'xlarge': 'images/2019/01/03/opinion/03Schmitt/03Schmitt-articleLarge.jpg',\n",
       "    'xlargewidth': 600,\n",
       "    'xlargeheight': 390},\n",
       "   'subType': 'xlarge',\n",
       "   'crop_name': 'articleLarge'},\n",
       "  {'rank': 0,\n",
       "   'subtype': 'thumbnail',\n",
       "   'caption': None,\n",
       "   'credit': None,\n",
       "   'type': 'image',\n",
       "   'url': 'images/2019/01/03/opinion/03Schmitt/03Schmitt-thumbStandard.jpg',\n",
       "   'height': 75,\n",
       "   'width': 75,\n",
       "   'legacy': {'thumbnail': 'images/2019/01/03/opinion/03Schmitt/03Schmitt-thumbStandard.jpg',\n",
       "    'thumbnailwidth': 75,\n",
       "    'thumbnailheight': 75},\n",
       "   'subType': 'thumbnail',\n",
       "   'crop_name': 'thumbStandard'},\n",
       "  {'rank': 0,\n",
       "   'subtype': 'jumbo',\n",
       "   'caption': None,\n",
       "   'credit': None,\n",
       "   'type': 'image',\n",
       "   'url': 'images/2019/01/03/opinion/03Schmitt/03Schmitt-jumbo.jpg',\n",
       "   'height': 666,\n",
       "   'width': 1024,\n",
       "   'legacy': [],\n",
       "   'subType': 'jumbo',\n",
       "   'crop_name': 'jumbo'},\n",
       "  {'rank': 0,\n",
       "   'subtype': 'superJumbo',\n",
       "   'caption': None,\n",
       "   'credit': None,\n",
       "   'type': 'image',\n",
       "   'url': 'images/2019/01/03/opinion/03Schmitt/03Schmitt-superJumbo.jpg',\n",
       "   'height': 1332,\n",
       "   'width': 2048,\n",
       "   'legacy': [],\n",
       "   'subType': 'superJumbo',\n",
       "   'crop_name': 'superJumbo'},\n",
       "  {'rank': 0,\n",
       "   'subtype': 'thumbLarge',\n",
       "   'caption': None,\n",
       "   'credit': None,\n",
       "   'type': 'image',\n",
       "   'url': 'images/2019/01/03/opinion/03Schmitt/03Schmitt-thumbLarge.jpg',\n",
       "   'height': 150,\n",
       "   'width': 150,\n",
       "   'legacy': [],\n",
       "   'subType': 'thumbLarge',\n",
       "   'crop_name': 'thumbLarge'}],\n",
       " 'headline': {'main': 'The Watergate Class of ’74 Has Valuable Lessons for Freshman Democrats',\n",
       "  'kicker': None,\n",
       "  'content_kicker': None,\n",
       "  'print_headline': 'Lessons for Freshman Democrats',\n",
       "  'name': None,\n",
       "  'seo': None,\n",
       "  'sub': None},\n",
       " 'keywords': [{'name': 'organizations',\n",
       "   'value': 'House of Representatives',\n",
       "   'rank': 1,\n",
       "   'major': 'N'},\n",
       "  {'name': 'organizations', 'value': 'Senate', 'rank': 2, 'major': 'N'},\n",
       "  {'name': 'organizations',\n",
       "   'value': 'Democratic Party',\n",
       "   'rank': 3,\n",
       "   'major': 'N'},\n",
       "  {'name': 'organizations',\n",
       "   'value': 'Republican Party',\n",
       "   'rank': 4,\n",
       "   'major': 'N'},\n",
       "  {'name': 'subject',\n",
       "   'value': 'United States Politics and Government',\n",
       "   'rank': 5,\n",
       "   'major': 'N'},\n",
       "  {'name': 'subject',\n",
       "   'value': 'Political Action Committees',\n",
       "   'rank': 6,\n",
       "   'major': 'N'},\n",
       "  {'name': 'subject', 'value': 'Watergate Affair', 'rank': 7, 'major': 'N'}],\n",
       " 'pub_date': '2019-01-03T11:00:04+0000',\n",
       " 'document_type': 'article',\n",
       " 'news_desk': 'OpEd',\n",
       " 'section_name': 'Opinion',\n",
       " 'byline': {'original': 'By MARK SCHMITT',\n",
       "  'person': [{'firstname': 'Mark',\n",
       "    'middlename': None,\n",
       "    'lastname': 'SCHMITT',\n",
       "    'qualifier': None,\n",
       "    'title': None,\n",
       "    'role': 'reported',\n",
       "    'organization': '',\n",
       "    'rank': 1}],\n",
       "  'organization': None},\n",
       " 'type_of_material': 'Op-Ed',\n",
       " '_id': '5c2deb373a125f5075c02a8a',\n",
       " 'word_count': 1155,\n",
       " 'score': 0,\n",
       " 'uri': 'nyt://article/1d7d4f0e-54c0-51a9-b52c-66bd0bfa22c0'}"
      ]
     },
     "execution_count": 11,
     "metadata": {},
     "output_type": "execute_result"
    }
   ],
   "source": [
    "articles[500]\n",
    "# Fields of use: web_url, abstract (maybe), byline (for author)\n",
    "# news_desk, section_name, type_of_material"
   ]
  },
  {
   "cell_type": "markdown",
   "metadata": {},
   "source": [
    "# Guardian"
   ]
  },
  {
   "cell_type": "code",
   "execution_count": 3,
   "metadata": {},
   "outputs": [],
   "source": [
    "# Guardian API Key\n",
    "api_key = 'bcf0c5ca-6041-4073-9247-cdd4242543b7'"
   ]
  },
  {
   "cell_type": "code",
   "execution_count": 16,
   "metadata": {},
   "outputs": [
    {
     "data": {
      "text/plain": [
       "'http://content.guardianapis.com/search?from-date=2018-01-01&to-date=2018-07-31&page=1&page-size=50&api-key=bcf0c5ca-6041-4073-9247-cdd4242543b7&show-fields=all'"
      ]
     },
     "execution_count": 16,
     "metadata": {},
     "output_type": "execute_result"
    }
   ],
   "source": [
    "from_date = '2018-01-01'\n",
    "to_date = '2018-12-31'\n",
    "page_size = '50'\n",
    "page = '1'\n",
    "url = 'http://content.guardianapis.com/search?from-date='+from_date+'&to-date='+to_date+'&page='+page+'&page-size='+page_size+'&api-key='+api_key+'&show-fields=all'\n",
    "url"
   ]
  },
  {
   "cell_type": "code",
   "execution_count": 17,
   "metadata": {},
   "outputs": [
    {
     "name": "stdout",
     "output_type": "stream",
     "text": [
      "<Response [200]>\n"
     ]
    }
   ],
   "source": [
    "response = requests.get(url)\n",
    "print(response)"
   ]
  },
  {
   "cell_type": "code",
   "execution_count": 18,
   "metadata": {},
   "outputs": [],
   "source": [
    "result = response.json()"
   ]
  },
  {
   "cell_type": "code",
   "execution_count": 19,
   "metadata": {},
   "outputs": [
    {
     "data": {
      "text/plain": [
       "945"
      ]
     },
     "execution_count": 19,
     "metadata": {},
     "output_type": "execute_result"
    }
   ],
   "source": [
    "num_pages = result['response']['pages']\n",
    "num_pages"
   ]
  },
  {
   "cell_type": "code",
   "execution_count": 10,
   "metadata": {},
   "outputs": [
    {
     "data": {
      "text/plain": [
       "{'id': 'lifeandstyle/2018/dec/28/focaccia-lemon-roast-onions-grapes-cream-cheese-waffles-recipes-anna-jones',\n",
       " 'type': 'article',\n",
       " 'sectionId': 'lifeandstyle',\n",
       " 'sectionName': 'Life and style',\n",
       " 'webPublicationDate': '2018-12-28T12:00:23Z',\n",
       " 'webTitle': 'Anna Jones’ recipes for party foccacia and savoury waffles | The Modern Cook',\n",
       " 'webUrl': 'https://www.theguardian.com/lifeandstyle/2018/dec/28/focaccia-lemon-roast-onions-grapes-cream-cheese-waffles-recipes-anna-jones',\n",
       " 'apiUrl': 'https://content.guardianapis.com/lifeandstyle/2018/dec/28/focaccia-lemon-roast-onions-grapes-cream-cheese-waffles-recipes-anna-jones',\n",
       " 'fields': {'headline': 'Anna Jones’ recipes for party foccacia and savoury waffles',\n",
       "  'standfirst': '<p>A loaf fit for any New Year’s Eve party and a hearty brunch for the morning after</p>',\n",
       "  'trailText': 'A loaf fit for any New Year’s Eve party and a hearty brunch for the morning after',\n",
       "  'byline': 'Anna Jones',\n",
       "  'main': '<figure class=\"element element-image element--showcase\" data-media-id=\"b4633f9c0dfe41702329520876831c0ca39fe6f1\"> <img src=\"https://media.guim.co.uk/b4633f9c0dfe41702329520876831c0ca39fe6f1/0_0_2000_1200/1000.jpg\" alt=\"Savoury cream cheese waffles with spinach.\" width=\"1000\" height=\"600\" class=\"gu-image\" /> <figcaption> <span class=\"element-image__caption\">Anna Jones’ savoury cream cheese waffles with spinach. </span> <span class=\"element-image__credit\">Photograph: Matt Russell/The Guardian. Food styling: Rosie Ramsden. Prop styling: Louie Waller.</span> </figcaption> </figure>',\n",
       "  'body': '<p>I don’t have much time for canapes. I’ve spent far too long at parties hovering for the single tray of vegetarian nibbles, only to miss the last one. Party food should be about abundance, and it should be for everyone. So this New Year’s Eve we’ll feast on this focaccia: impressive to look at, easy to share without tiny plates or napkins, and filling enough to soak up a few glasses of fizz. The topping is full of sweet bursts from the onions and grapes, and freshness from the lemon, which together are an incredible foil to the bread’s saltiness. There is, of course, the matter of what to eat the morning after; I think the first meal of a new year should mark how I intend to eat for the next 12 months. These waffles, along with my annual New Year’s Day dip in the sea, will start 2019 in the best possible way.</p> <h2><strong>Savoury cream cheese waffles with spinach</strong></h2> <p>This is a hearty breakfast, made with a batter that also works beautifully for pancakes if you don’t have a waffle maker. For this, heat a little oil in a nonstick pan and drop ladlefuls of the mixture into the pan. Cook for two to three minutes on each side until golden. I like serving these with extra wilted spinach and chilli jam.</p> <p>Prep <strong>15 min<br></strong>Cook <strong>6 min per waffle<br></strong>Makes <strong>8 waffles</strong></p> <p><strong>Olive oil</strong><br><strong>4 spring onions</strong>, chopped<br><strong>100g spinach</strong><br><strong>130g buckwheat flour</strong><br><strong>60g white spelt flour</strong><br><strong>1 heaped t</strong><strong>sp baking powder</strong><br><strong>Salt and black pepper</strong><br><strong>280g cream cheese</strong><br><strong>100ml natural yoghurt</strong><br><strong>200ml whole milk</strong><br><strong>1 egg</strong>, beaten<br><strong>A good grating nutmeg</strong></p> <p>To serve<br><strong>4-8 </strong><strong>eggs<br>White-wine vinegar</strong>, for the eggs (if needed)<br><strong>Chilli jam or chutney Greens or extra spinach</strong></p> <p>Heat your waffle maker. I use an electric one, but if you are using a hob iron, leave it on a very low heat to warm up.</p> <p>Warm a little olive oil in a frying pan over a medium heat, add the spring onions and cook for a few minutes, until they start to brown. Add the spinach, cooking until most of the moisture has evaporated. Tip the mixture on to a chopping board to cool, then chop it roughly.</p> <p>In a bowl, whisk together the flours, baking powder and a good pinch of salt and pepper to get rid of any lumps.</p> <p>Mix the cream cheese, yoghurt, milk, egg and chopped spinach in a jug, then season well with nutmeg, salt and pepper. Stir this through the flour mix. It will be quite viscous, with the consistency of thick cream (the buckwheat will thicken if it sits).</p> <p>Put a knob of butter or coconut oil on to the base of the waffle maker and use a brush to push it around the iron squares. Do the same on the other side of the iron.</p> <p>Spoon one ladle of mixture into the base of the hot iron and close the lid. Leave for five to six minutes to crisp up. The waffles are ready once they’re an even golden-brown and come away easily from the sides. Open the lid and ease out the waffles with a spatula. Put them on a plate under foil to keep warm.</p> <p>Meanwhile, poach your eggs. Bring a large pan of water to the boil, add a teaspoon of white wine vinegar if your eggs aren’t the freshest. Crack the eggs into small cups and turn the water to a low simmer. Holding the cups close to the water, drop in the eggs. Cook for three to four minutes, until the whites have set and the yolks are runny.</p> <p>To serve, put two waffles on each plate, top with an egg or two, and spoon a little chilli jam or chutney on the side, with extra wilted greens, if you like.</p> <h2>Party focaccia with lemon, roast onions and grapes</h2> <p>This recipe, inspired by my brilliant friend <a href=\"https://www.theguardian.com/profile/samin-nosrat\" title=\"\">Samin Nosrat</a>, uses a brine to season the focaccia, evenly salting it to make it all the more delicious. You can skip the overnight proving and just use 4g yeast instead of ½ tsp (which is about 1g). Samin’s tip: To store, wrap in parchment and then keep in an airtight bag or container to preserve texture. Gently toast or reheat any leftover focaccia before serving. Alternatively, wrap tightly to freeze, then defrost and reheat before serving.</p>  <figure class=\"element element-image element--showcase\" data-media-id=\"451ad24ece5ffbe2f4980aa2b3ae1777e04dcfc9\"> <img src=\"https://media.guim.co.uk/451ad24ece5ffbe2f4980aa2b3ae1777e04dcfc9/156_0_1844_1333/1000.jpg\" alt=\"Party focaccia with lemon, roast onions and grapes.\" width=\"1000\" height=\"723\" class=\"gu-image\" /> <figcaption> <span class=\"element-image__caption\">Anna Jones’s party focaccia with lemon, roast onions and grapes.</span> <span class=\"element-image__credit\">Photograph: Matt Russell/The Guardian</span> </figcaption> </figure>  <p>Prep <strong>Overnight</strong> +<strong> 1 hr<br></strong>Cook <strong>45 min<br></strong>Serves <strong>10-12</strong></p> <p>For the dough<br><strong>½ t</strong><strong>sp active dry yeast</strong><br><strong>2 t</strong><strong>sp runny honey</strong><br><strong>700g plain flour</strong><br><strong>½ tbsp </strong><strong>sea salt</strong> (about 12g)<br><strong>40ml best extra-virgin olive oil</strong>, plus more for greasing and finishing</p> <p>For the topping<br><strong>150g black grapes</strong><br><strong>4 red onions</strong>, peeled and sliced<br><strong>8 bay leaves</strong><br><strong>4 sprigs rosemary</strong><br><strong>Flaked sea salt</strong>, for finishing<br><strong>1 lemon</strong>, peel pared with a vegetable peeler</p> <p>The night before you bake, stir together 525ml lukewarm water, yeast and honey to dissolve. In a large bowl, mix the flour and salt, then add the yeast mixture and olive oil. Stir to combine and, using a spatula or dough scraper, scrape the sides of the bowl clean and cover with a tea towel or clingfilm. Leave at room temperature for 12 to 14 hours, until at least doubled in volume.</p> <p>The next morning, pour two to three tablespoons of oil on to a 40cm x 30cm roasting tray, preferably 4cm deep. Pour the dough into the tray – use a dough scraper to help you. Rub two tablespoons of olive oil over the dough. Gently stretch it to the edge of the tray. Leave it to rest for half an hour, pulling it back to the edges again if need be.</p> <p>Grease your hands lightly, then press your fingers into the dough about three centimetres apart – larger fingers work better for this, otherwise you may need to go over the holes again later. Make the brine by stirring together half a teaspoon of salt and 50ml lukewarm water until dissolved, then brush this all over the dough and its dimples. Rest for 45 minutes.</p> <p>Heat the oven to 220C (fan 210C)/450F/gas 8. After the dough has proved, top it with the grapes, onions, bay and rosemary, and sprinkle with flaked sea salt.</p> <p>Bake for 25-30 minutes, until the base is crisp and golden brown, some of the grapes have burst, the onions are softened and the rosemary and bay leaves are crisp. Add the pared lemon, a little more oil and salt, then move the focaccia to the top shelf and bake for a further five to seven minutes.</p> <p>Remove from the oven and drizzle over more oil. Leave to cool for five to 10 minutes, then use a fish slice or a spatula to lift it out of the tin. Slice it when warm or at room temperature.</p>',\n",
       "  'newspaperPageNumber': '8',\n",
       "  'wordcount': '1118',\n",
       "  'commentCloseDate': '2018-12-31T12:00:23Z',\n",
       "  'commentable': 'true',\n",
       "  'firstPublicationDate': '2018-12-28T12:00:23Z',\n",
       "  'isInappropriateForSponsorship': 'false',\n",
       "  'isPremoderated': 'false',\n",
       "  'lastModified': '2018-12-28T12:00:23Z',\n",
       "  'newspaperEditionDate': '2018-12-29T00:00:00Z',\n",
       "  'productionOffice': 'UK',\n",
       "  'publication': 'The Guardian',\n",
       "  'shortUrl': 'https://gu.com/p/a8ff6',\n",
       "  'shouldHideAdverts': 'false',\n",
       "  'showInRelatedContent': 'true',\n",
       "  'thumbnail': 'https://media.guim.co.uk/b4633f9c0dfe41702329520876831c0ca39fe6f1/0_0_2000_1200/500.jpg',\n",
       "  'legallySensitive': 'false',\n",
       "  'lang': 'en',\n",
       "  'bodyText': 'I don’t have much time for canapes. I’ve spent far too long at parties hovering for the single tray of vegetarian nibbles, only to miss the last one. Party food should be about abundance, and it should be for everyone. So this New Year’s Eve we’ll feast on this focaccia: impressive to look at, easy to share without tiny plates or napkins, and filling enough to soak up a few glasses of fizz. The topping is full of sweet bursts from the onions and grapes, and freshness from the lemon, which together are an incredible foil to the bread’s saltiness. There is, of course, the matter of what to eat the morning after; I think the first meal of a new year should mark how I intend to eat for the next 12 months. These waffles, along with my annual New Year’s Day dip in the sea, will start 2019 in the best possible way. Savoury cream cheese waffles with spinach This is a hearty breakfast, made with a batter that also works beautifully for pancakes if you don’t have a waffle maker. For this, heat a little oil in a nonstick pan and drop ladlefuls of the mixture into the pan. Cook for two to three minutes on each side until golden. I like serving these with extra wilted spinach and chilli jam. Prep 15 min Cook 6 min per waffle Makes 8 waffles Olive oil 4 spring onions, chopped 100g spinach 130g buckwheat flour 60g white spelt flour 1 heaped tsp baking powder Salt and black pepper 280g cream cheese 100ml natural yoghurt 200ml whole milk 1 egg, beaten A good grating nutmeg To serve 4-8 eggs White-wine vinegar, for the eggs (if needed) Chilli jam or chutney Greens or extra spinach Heat your waffle maker. I use an electric one, but if you are using a hob iron, leave it on a very low heat to warm up. Warm a little olive oil in a frying pan over a medium heat, add the spring onions and cook for a few minutes, until they start to brown. Add the spinach, cooking until most of the moisture has evaporated. Tip the mixture on to a chopping board to cool, then chop it roughly. In a bowl, whisk together the flours, baking powder and a good pinch of salt and pepper to get rid of any lumps. Mix the cream cheese, yoghurt, milk, egg and chopped spinach in a jug, then season well with nutmeg, salt and pepper. Stir this through the flour mix. It will be quite viscous, with the consistency of thick cream (the buckwheat will thicken if it sits). Put a knob of butter or coconut oil on to the base of the waffle maker and use a brush to push it around the iron squares. Do the same on the other side of the iron. Spoon one ladle of mixture into the base of the hot iron and close the lid. Leave for five to six minutes to crisp up. The waffles are ready once they’re an even golden-brown and come away easily from the sides. Open the lid and ease out the waffles with a spatula. Put them on a plate under foil to keep warm. Meanwhile, poach your eggs. Bring a large pan of water to the boil, add a teaspoon of white wine vinegar if your eggs aren’t the freshest. Crack the eggs into small cups and turn the water to a low simmer. Holding the cups close to the water, drop in the eggs. Cook for three to four minutes, until the whites have set and the yolks are runny. To serve, put two waffles on each plate, top with an egg or two, and spoon a little chilli jam or chutney on the side, with extra wilted greens, if you like. Party focaccia with lemon, roast onions and grapes This recipe, inspired by my brilliant friend Samin Nosrat, uses a brine to season the focaccia, evenly salting it to make it all the more delicious. You can skip the overnight proving and just use 4g yeast instead of ½ tsp (which is about 1g). Samin’s tip: To store, wrap in parchment and then keep in an airtight bag or container to preserve texture. Gently toast or reheat any leftover focaccia before serving. Alternatively, wrap tightly to freeze, then defrost and reheat before serving. Prep Overnight + 1 hr Cook 45 min Serves 10-12 For the dough ½ tsp active dry yeast 2 tsp runny honey 700g plain flour ½ tbsp sea salt (about 12g) 40ml best extra-virgin olive oil, plus more for greasing and finishing For the topping 150g black grapes 4 red onions, peeled and sliced 8 bay leaves 4 sprigs rosemary Flaked sea salt, for finishing 1 lemon, peel pared with a vegetable peeler The night before you bake, stir together 525ml lukewarm water, yeast and honey to dissolve. In a large bowl, mix the flour and salt, then add the yeast mixture and olive oil. Stir to combine and, using a spatula or dough scraper, scrape the sides of the bowl clean and cover with a tea towel or clingfilm. Leave at room temperature for 12 to 14 hours, until at least doubled in volume. The next morning, pour two to three tablespoons of oil on to a 40cm x 30cm roasting tray, preferably 4cm deep. Pour the dough into the tray – use a dough scraper to help you. Rub two tablespoons of olive oil over the dough. Gently stretch it to the edge of the tray. Leave it to rest for half an hour, pulling it back to the edges again if need be. Grease your hands lightly, then press your fingers into the dough about three centimetres apart – larger fingers work better for this, otherwise you may need to go over the holes again later. Make the brine by stirring together half a teaspoon of salt and 50ml lukewarm water until dissolved, then brush this all over the dough and its dimples. Rest for 45 minutes. Heat the oven to 220C (fan 210C)/450F/gas 8. After the dough has proved, top it with the grapes, onions, bay and rosemary, and sprinkle with flaked sea salt. Bake for 25-30 minutes, until the base is crisp and golden brown, some of the grapes have burst, the onions are softened and the rosemary and bay leaves are crisp. Add the pared lemon, a little more oil and salt, then move the focaccia to the top shelf and bake for a further five to seven minutes. Remove from the oven and drizzle over more oil. Leave to cool for five to 10 minutes, then use a fish slice or a spatula to lift it out of the tin. Slice it when warm or at room temperature.',\n",
       "  'charCount': '6012',\n",
       "  'shouldHideReaderRevenue': 'false',\n",
       "  'showAffiliateLinks': 'true',\n",
       "  'bylineHtml': '<span data-tag-id=\"64120\" class=\"contributor\">Anna Jones</span>'},\n",
       " 'isHosted': False,\n",
       " 'pillarId': 'pillar/lifestyle',\n",
       " 'pillarName': 'Lifestyle'}"
      ]
     },
     "execution_count": 10,
     "metadata": {},
     "output_type": "execute_result"
    }
   ],
   "source": [
    "result['response']['results'][49]\n",
    "# Imp fields: webTitle, fields->bodyText (full article text), byline (author)"
   ]
  },
  {
   "cell_type": "code",
   "execution_count": 4,
   "metadata": {},
   "outputs": [
    {
     "name": "stdout",
     "output_type": "stream",
     "text": [
      "Year 2015..........\n",
      "Year 2016..........\n",
      "Year 2017..........\n",
      "Year 2018..........\n",
      "Year 2019..........\n"
     ]
    },
    {
     "data": {
      "text/plain": [
       "['article', 'interactive', 'liveblog']"
      ]
     },
     "execution_count": 4,
     "metadata": {},
     "output_type": "execute_result"
    }
   ],
   "source": [
    "# Checking possible article types\n",
    "article_types = []\n",
    "url = 'http://content.guardianapis.com/search'\n",
    "# Date Format - 2014-02-17\n",
    "params = {'from-date': 0,\n",
    "        'to-date': '2019-01-31',\n",
    "        'show-fields': 'all',\n",
    "        'page':1,\n",
    "        'page-size': 50,\n",
    "        'api-key': api_key}\n",
    "\n",
    "for year in range(2015,2020):\n",
    "    print(\"Year\",year,end='')\n",
    "    params['from-date'] = str(year)+'-01-01'\n",
    "    params['to-date'] = str(year)+'-12-31'\n",
    "    params['page'] = 1\n",
    "    # Extra call necessary to get number of pages \n",
    "    response = requests.get(url, params)\n",
    "    if response.status_code !=200:\n",
    "        print(\"API Error!\\n\")\n",
    "        break\n",
    "    pages = response.json()['response']['pages']\n",
    "    current_page = 1\n",
    "    while current_page <= 10:\n",
    "        print(\".\",end='')\n",
    "        response = requests.get(url, params)\n",
    "        if response.status_code !=200:\n",
    "            print(\"API Error!\\n\")\n",
    "            break\n",
    "        articles = response.json()['response']['results']\n",
    "        for a in articles:\n",
    "            if a['type'] not in article_types:\n",
    "                article_types.append(a['type'])\n",
    "        current_page+=1\n",
    "        time.sleep(5) # Adding time delay to not hit API calls per minute limit\n",
    "    print('')\n",
    "article_types"
   ]
  },
  {
   "cell_type": "code",
   "execution_count": null,
   "metadata": {},
   "outputs": [],
   "source": []
  }
 ],
 "metadata": {
  "kernelspec": {
   "display_name": "Python 3",
   "language": "python",
   "name": "python3"
  },
  "language_info": {
   "codemirror_mode": {
    "name": "ipython",
    "version": 3
   },
   "file_extension": ".py",
   "mimetype": "text/x-python",
   "name": "python",
   "nbconvert_exporter": "python",
   "pygments_lexer": "ipython3",
   "version": "3.7.3"
  }
 },
 "nbformat": 4,
 "nbformat_minor": 2
}
