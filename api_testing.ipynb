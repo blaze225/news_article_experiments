{
  "nbformat": 4,
  "nbformat_minor": 0,
  "metadata": {
    "kernelspec": {
      "display_name": "Python 3",
      "language": "python",
      "name": "python3"
    },
    "language_info": {
      "codemirror_mode": {
        "name": "ipython",
        "version": 3
      },
      "file_extension": ".py",
      "mimetype": "text/x-python",
      "name": "python",
      "nbconvert_exporter": "python",
      "pygments_lexer": "ipython3",
      "version": "3.7.3"
    },
    "colab": {
      "name": "api_testing.ipynb",
      "provenance": []
    }
  },
  "cells": [
    {
      "cell_type": "code",
      "metadata": {
        "id": "DqebsNAMk_B3",
        "colab_type": "code",
        "colab": {}
      },
      "source": [
        "import requests\n",
        "import time"
      ],
      "execution_count": 1,
      "outputs": []
    },
    {
      "cell_type": "markdown",
      "metadata": {
        "id": "a3mzc8LYk_B9",
        "colab_type": "text"
      },
      "source": [
        "# NY Times"
      ]
    },
    {
      "cell_type": "code",
      "metadata": {
        "id": "gfUZCwgXk_B-",
        "colab_type": "code",
        "colab": {}
      },
      "source": [
        "# NY TIMES API \n",
        "api_key = 'gkHhhsov9LrY3D0rs7UybUHaytbIAmve'"
      ],
      "execution_count": 36,
      "outputs": []
    },
    {
      "cell_type": "code",
      "metadata": {
        "id": "ko4guVTjk_CC",
        "colab_type": "code",
        "colab": {
          "base_uri": "https://localhost:8080/",
          "height": 35
        },
        "outputId": "d94b9e90-90ee-4457-d37b-11f30ad7f54a"
      },
      "source": [
        "# Getting all articles from a specific year and month\n",
        "month = '1'\n",
        "year = '2020'\n",
        "url = 'https://api.nytimes.com/svc/archive/v1/'+year+'/'+month+'.json?&api-key='+api_key\n",
        "url"
      ],
      "execution_count": 37,
      "outputs": [
        {
          "output_type": "execute_result",
          "data": {
            "application/vnd.google.colaboratory.intrinsic+json": {
              "type": "string"
            },
            "text/plain": [
              "'https://api.nytimes.com/svc/archive/v1/2020/1.json?&api-key=gkHhhsov9LrY3D0rs7UybUHaytbIAmve'"
            ]
          },
          "metadata": {
            "tags": []
          },
          "execution_count": 37
        }
      ]
    },
    {
      "cell_type": "code",
      "metadata": {
        "id": "TuNBsNZTk_CF",
        "colab_type": "code",
        "colab": {
          "base_uri": "https://localhost:8080/",
          "height": 34
        },
        "outputId": "1a7003a2-121c-41f1-95b9-b2cdb0e74c57"
      },
      "source": [
        "response = requests.get(url)\n",
        "print(response)"
      ],
      "execution_count": 38,
      "outputs": [
        {
          "output_type": "stream",
          "text": [
            "<Response [200]>\n"
          ],
          "name": "stdout"
        }
      ]
    },
    {
      "cell_type": "code",
      "metadata": {
        "id": "JuBFcmsdk_CK",
        "colab_type": "code",
        "colab": {}
      },
      "source": [
        "result = response.json()"
      ],
      "execution_count": 39,
      "outputs": []
    },
    {
      "cell_type": "code",
      "metadata": {
        "id": "cbMrmGaHk_CP",
        "colab_type": "code",
        "colab": {
          "base_uri": "https://localhost:8080/",
          "height": 34
        },
        "outputId": "8e344bec-e2bd-419e-fc32-2a7cc9b55071"
      },
      "source": [
        "# Number of articles retreived in a single call\n",
        "articles = result['response']['docs']\n",
        "len(articles)"
      ],
      "execution_count": 40,
      "outputs": [
        {
          "output_type": "execute_result",
          "data": {
            "text/plain": [
              "7585"
            ]
          },
          "metadata": {
            "tags": []
          },
          "execution_count": 40
        }
      ]
    },
    {
      "cell_type": "code",
      "metadata": {
        "id": "yOVgUYSkk_CT",
        "colab_type": "code",
        "colab": {
          "base_uri": "https://localhost:8080/",
          "height": 54
        },
        "outputId": "42e441fa-e1c4-424a-c4e0-968d87de0b52"
      },
      "source": [
        "articles[1001].keys()"
      ],
      "execution_count": 7,
      "outputs": [
        {
          "output_type": "execute_result",
          "data": {
            "text/plain": [
              "dict_keys(['abstract', 'web_url', 'snippet', 'lead_paragraph', 'print_section', 'print_page', 'source', 'multimedia', 'headline', 'keywords', 'pub_date', 'document_type', 'news_desk', 'section_name', 'subsection_name', 'byline', 'type_of_material', '_id', 'word_count', 'uri'])"
            ]
          },
          "metadata": {
            "tags": []
          },
          "execution_count": 7
        }
      ]
    },
    {
      "cell_type": "code",
      "metadata": {
        "id": "OJ1QJSySk_CY",
        "colab_type": "code",
        "colab": {
          "base_uri": "https://localhost:8080/",
          "height": 54
        },
        "outputId": "abf7e8a5-019c-4ac0-9e08-96d96bc5857a"
      },
      "source": [
        "# Checking possible article types via 'type_of_material'\n",
        "material_types = []\n",
        "for a in articles:\n",
        "    try:\n",
        "        if a['type_of_material'] not in material_types:\n",
        "            material_types.append(a['type_of_material'])\n",
        "    except:\n",
        "        pass\n",
        "    \n",
        "print(\"News types:\", material_types)"
      ],
      "execution_count": 8,
      "outputs": [
        {
          "output_type": "stream",
          "text": [
            "News types: ['Editorial', 'News', 'Op-Ed', 'Review', 'News Analysis', 'Brief', 'List', 'Letter', 'Question', 'Quote', 'Obituary (Obit)', 'Schedule', 'Biography', 'Text', 'Interactive Feature', 'Slideshow', 'Video', 'Correction', 'recipe', 'Interview', 'An Appraisal', 'Special Report']\n"
          ],
          "name": "stdout"
        }
      ]
    },
    {
      "cell_type": "code",
      "metadata": {
        "id": "mG3xCJOjk_Cc",
        "colab_type": "code",
        "colab": {
          "base_uri": "https://localhost:8080/",
          "height": 34
        },
        "outputId": "afdf4078-c984-48c9-aea7-c1f8d59b8102"
      },
      "source": [
        "# Counting articles which dont have 'type_of_material' : Very Less\n",
        "# Bad Data\n",
        "count=0\n",
        "for a in articles:\n",
        "    try:\n",
        "        if a['type_of_material']:\n",
        "            pass\n",
        "    except:\n",
        "       count+=1\n",
        "print(count ,\"(\", (count/len(articles))*100,\"%)\")"
      ],
      "execution_count": 9,
      "outputs": [
        {
          "output_type": "stream",
          "text": [
            "22 ( 0.2142996298460939 %)\n"
          ],
          "name": "stdout"
        }
      ]
    },
    {
      "cell_type": "code",
      "metadata": {
        "id": "yz0zYffJk_Cf",
        "colab_type": "code",
        "colab": {}
      },
      "source": [
        "# Verifying usable article types by checking links manually\n",
        "# 'type_of_material' Review is not needed\n",
        "# Usable article types: News, Op-Ed, Editorial, News Analysis\n",
        "for a in articles:\n",
        "    try:\n",
        "        if a['type_of_material'] == 'Newsletter':\n",
        "            print(a['web_url'])\n",
        "            break\n",
        "    except:\n",
        "        pass"
      ],
      "execution_count": 10,
      "outputs": []
    },
    {
      "cell_type": "code",
      "metadata": {
        "id": "QkFCphO0k_Ci",
        "colab_type": "code",
        "colab": {
          "base_uri": "https://localhost:8080/",
          "height": 34
        },
        "outputId": "1be2c06e-f95e-4fee-dd53-5653c3a2dcde"
      },
      "source": [
        "# Usable 'type_of_material':\n",
        "article_filter = ['News', 'Op-Ed', 'News Analysis', 'Editorial']\n",
        "consider=0\n",
        "for a in articles:\n",
        "    try:\n",
        "        if a['type_of_material'] in article_filter:\n",
        "            consider+=1\n",
        "    except:\n",
        "        pass\n",
        "\n",
        "print(\"% articles that will be considered:\",(consider/len(articles))*100)"
      ],
      "execution_count": 11,
      "outputs": [
        {
          "output_type": "stream",
          "text": [
            "% articles that will be considered: 73.38788233002143\n"
          ],
          "name": "stdout"
        }
      ]
    },
    {
      "cell_type": "code",
      "metadata": {
        "id": "hNTGFv9Nk_Cl",
        "colab_type": "code",
        "colab": {
          "base_uri": "https://localhost:8080/",
          "height": 1000
        },
        "outputId": "54389f97-1917-40a5-dfe1-ba432116a941"
      },
      "source": [
        "articles[10]\n",
        "# Fields of use: web_url, abstract (maybe), byline (for author)\n",
        "# news_desk, section_name, type_of_material"
      ],
      "execution_count": 41,
      "outputs": [
        {
          "output_type": "execute_result",
          "data": {
            "text/plain": [
              "{'_id': 'nyt://article/21594211-daf1-5b77-897e-38022da13eac',\n",
              " 'abstract': 'Linda Tracy and Peter Tracy had been married 37 years, before divorcing in 2015. When their sons began planning their own weddings, Mom and Dad rediscovered love.',\n",
              " 'byline': {'organization': None,\n",
              "  'original': 'By Tammy La Gorce',\n",
              "  'person': [{'firstname': 'Tammy',\n",
              "    'lastname': 'La Gorce',\n",
              "    'middlename': None,\n",
              "    'organization': '',\n",
              "    'qualifier': None,\n",
              "    'rank': 1,\n",
              "    'role': 'reported',\n",
              "    'title': None}]},\n",
              " 'document_type': 'article',\n",
              " 'headline': {'content_kicker': None,\n",
              "  'kicker': 'vows',\n",
              "  'main': 'I Do. Take 2.',\n",
              "  'name': None,\n",
              "  'print_headline': 'A Love So Persistent, They Had to Marry Twice',\n",
              "  'seo': None,\n",
              "  'sub': None},\n",
              " 'keywords': [{'major': 'N',\n",
              "   'name': 'subject',\n",
              "   'rank': 1,\n",
              "   'value': 'Divorce, Separations and Annulments'},\n",
              "  {'major': 'N', 'name': 'glocations', 'rank': 2, 'value': 'Baltimore (Md)'},\n",
              "  {'major': 'N', 'name': 'subject', 'rank': 3, 'value': 'Marriages'}],\n",
              " 'lead_paragraph': 'When Donna Adelsberg ran into her best friend’s ex-husband  at the supermarket a few years ago, she intended to leave him standing by the deli with his pastrami and her cold shoulder.',\n",
              " 'multimedia': [{'caption': None,\n",
              "   'credit': None,\n",
              "   'crop_name': 'articleLarge',\n",
              "   'height': 400,\n",
              "   'legacy': {'xlarge': 'images/2020/01/05/fashion/03VOWS-Baltimore1/merlin_166503669_6475657b-a5b3-47cf-aa20-890095e18937-articleLarge.jpg',\n",
              "    'xlargeheight': 400,\n",
              "    'xlargewidth': 600},\n",
              "   'rank': 0,\n",
              "   'subType': 'xlarge',\n",
              "   'subtype': 'xlarge',\n",
              "   'type': 'image',\n",
              "   'url': 'images/2020/01/05/fashion/03VOWS-Baltimore1/merlin_166503669_6475657b-a5b3-47cf-aa20-890095e18937-articleLarge.jpg',\n",
              "   'width': 600},\n",
              "  {'caption': None,\n",
              "   'credit': None,\n",
              "   'crop_name': 'jumbo',\n",
              "   'height': 684,\n",
              "   'legacy': [],\n",
              "   'rank': 0,\n",
              "   'subType': 'jumbo',\n",
              "   'subtype': 'jumbo',\n",
              "   'type': 'image',\n",
              "   'url': 'images/2020/01/05/fashion/03VOWS-Baltimore1/merlin_166503669_6475657b-a5b3-47cf-aa20-890095e18937-jumbo.jpg',\n",
              "   'width': 1024},\n",
              "  {'caption': None,\n",
              "   'credit': None,\n",
              "   'crop_name': 'superJumbo',\n",
              "   'height': 1367,\n",
              "   'legacy': [],\n",
              "   'rank': 0,\n",
              "   'subType': 'superJumbo',\n",
              "   'subtype': 'superJumbo',\n",
              "   'type': 'image',\n",
              "   'url': 'images/2020/01/05/fashion/03VOWS-Baltimore1/merlin_166503669_6475657b-a5b3-47cf-aa20-890095e18937-superJumbo.jpg',\n",
              "   'width': 2048},\n",
              "  {'caption': None,\n",
              "   'credit': None,\n",
              "   'crop_name': 'thumbStandard',\n",
              "   'height': 75,\n",
              "   'legacy': {'thumbnail': 'images/2020/01/05/fashion/03VOWS-Baltimore1/03VOWS-Baltimore1-thumbStandard.jpg',\n",
              "    'thumbnailheight': 75,\n",
              "    'thumbnailwidth': 75},\n",
              "   'rank': 0,\n",
              "   'subType': 'thumbnail',\n",
              "   'subtype': 'thumbnail',\n",
              "   'type': 'image',\n",
              "   'url': 'images/2020/01/05/fashion/03VOWS-Baltimore1/03VOWS-Baltimore1-thumbStandard.jpg',\n",
              "   'width': 75},\n",
              "  {'caption': None,\n",
              "   'credit': None,\n",
              "   'crop_name': 'thumbLarge',\n",
              "   'height': 150,\n",
              "   'legacy': [],\n",
              "   'rank': 0,\n",
              "   'subType': 'thumbLarge',\n",
              "   'subtype': 'thumbLarge',\n",
              "   'type': 'image',\n",
              "   'url': 'images/2020/01/05/fashion/03VOWS-Baltimore1/03VOWS-Baltimore1-thumbLarge.jpg',\n",
              "   'width': 150}],\n",
              " 'news_desk': 'Styles',\n",
              " 'print_page': '10',\n",
              " 'print_section': 'ST',\n",
              " 'pub_date': '2020-01-03T11:00:09+0000',\n",
              " 'section_name': 'Fashion & Style',\n",
              " 'snippet': 'Linda Tracy and Peter Tracy had been married 37 years, before divorcing in 2015. When their sons began planning their own weddings, Mom and Dad rediscovered love.',\n",
              " 'source': 'The New York Times',\n",
              " 'subsection_name': 'Weddings',\n",
              " 'type_of_material': 'News',\n",
              " 'uri': 'nyt://article/21594211-daf1-5b77-897e-38022da13eac',\n",
              " 'web_url': 'https://www.nytimes.com/2020/01/03/fashion/weddings/Married-37-years-and-divorced-for-now-its-I-Do-Take-24.html',\n",
              " 'word_count': 1958}"
            ]
          },
          "metadata": {
            "tags": []
          },
          "execution_count": 41
        }
      ]
    },
    {
      "cell_type": "markdown",
      "metadata": {
        "id": "ZVh2OkLAk_Co",
        "colab_type": "text"
      },
      "source": [
        "# Guardian"
      ]
    },
    {
      "cell_type": "code",
      "metadata": {
        "id": "z7wW6_q0k_Cp",
        "colab_type": "code",
        "colab": {}
      },
      "source": [
        "# Guardian API Key\n",
        "api_key = 'bcf0c5ca-6041-4073-9247-cdd4242543b7'"
      ],
      "execution_count": 13,
      "outputs": []
    },
    {
      "cell_type": "code",
      "metadata": {
        "id": "vHTp9LwUk_Cs",
        "colab_type": "code",
        "colab": {
          "base_uri": "https://localhost:8080/",
          "height": 52
        },
        "outputId": "f72be360-3398-413a-a5d1-c9d73e97b488"
      },
      "source": [
        "from_date = '2018-01-01'\n",
        "to_date = '2018-12-31'\n",
        "page_size = '50'\n",
        "page = '1'\n",
        "url = 'http://content.guardianapis.com/search?from-date='+from_date+'&to-date='+to_date+'&page='+page+'&page-size='+page_size+'&api-key='+api_key+'&show-fields=all'\n",
        "url"
      ],
      "execution_count": 14,
      "outputs": [
        {
          "output_type": "execute_result",
          "data": {
            "application/vnd.google.colaboratory.intrinsic+json": {
              "type": "string"
            },
            "text/plain": [
              "'http://content.guardianapis.com/search?from-date=2018-01-01&to-date=2018-12-31&page=1&page-size=50&api-key=bcf0c5ca-6041-4073-9247-cdd4242543b7&show-fields=all'"
            ]
          },
          "metadata": {
            "tags": []
          },
          "execution_count": 14
        }
      ]
    },
    {
      "cell_type": "code",
      "metadata": {
        "id": "qJMlb8Xfk_Cu",
        "colab_type": "code",
        "colab": {
          "base_uri": "https://localhost:8080/",
          "height": 34
        },
        "outputId": "cbb44318-795c-419c-b83f-4cbc157549ee"
      },
      "source": [
        "response = requests.get(url)\n",
        "print(response)"
      ],
      "execution_count": 15,
      "outputs": [
        {
          "output_type": "stream",
          "text": [
            "<Response [200]>\n"
          ],
          "name": "stdout"
        }
      ]
    },
    {
      "cell_type": "code",
      "metadata": {
        "id": "GDfAf25Lk_Cy",
        "colab_type": "code",
        "colab": {}
      },
      "source": [
        "result = response.json()"
      ],
      "execution_count": 16,
      "outputs": []
    },
    {
      "cell_type": "code",
      "metadata": {
        "id": "YvmpHzytk_C0",
        "colab_type": "code",
        "colab": {
          "base_uri": "https://localhost:8080/",
          "height": 34
        },
        "outputId": "2fe6f819-5665-4fc9-d92c-36855b531f5e"
      },
      "source": [
        "num_pages = result['response']['pages']\n",
        "num_pages"
      ],
      "execution_count": 17,
      "outputs": [
        {
          "output_type": "execute_result",
          "data": {
            "text/plain": [
              "1595"
            ]
          },
          "metadata": {
            "tags": []
          },
          "execution_count": 17
        }
      ]
    },
    {
      "cell_type": "code",
      "metadata": {
        "id": "Pu63Zinlk_C3",
        "colab_type": "code",
        "colab": {
          "base_uri": "https://localhost:8080/",
          "height": 683
        },
        "outputId": "c1e0fe0a-c305-4159-8866-03e5b49ddb52"
      },
      "source": [
        "result['response']['results'][49]\n",
        "# Imp fields: webTitle, fields->bodyText (full article text), byline (author)"
      ],
      "execution_count": 18,
      "outputs": [
        {
          "output_type": "execute_result",
          "data": {
            "text/plain": [
              "{'apiUrl': 'https://content.guardianapis.com/politics/2018/dec/31/brexit-ferry-firm-seaborne-says-it-will-be-up-and-running-before-end-of-march',\n",
              " 'fields': {'body': '<p>A former Royal Navy submarine officer who runs the ferry company awarded a £13.8m government contract to operate cross-Channel freight services in the event of a no-deal Brexit says the firm will charter vessels in time to launch before the end of March.</p> <p>Ben Sharp, the chief executive of Seaborne Freight, dismissed concerns about the company’s ability to run a cargo service after it was revealed that it <a href=\"https://www.theguardian.com/politics/2018/dec/30/no-deal-brexit-ferry-company-owns-no-ships-and-has-never-run-ferry-service\">does not own any boats</a>.</p> <p>He said the firm was run by a collection of “old dogs”, backed by City investors, and would be ready to launch a cargo service between Ramsgate in Kent and the Belgian port of Ostend before the UK’s exit from the EU, due on 29 March.</p> <p>“Seaborne Freight will not be a ship owner, we are chartering in ships,” he told the Guardian. “It’s a unique combination of seafaring, City and finance and ferry industry experience – decades of it. This is not a startup. We’re all old dogs at this.”</p> <p>Paul Messenger, a Conservative county councillor for Ramsgate, had questioned whether Ramsgate was capable of receiving cargo ships given the low capacity of berths at the port.</p> <p>But Sharp, who spent 10 years in the Royal Navy before setting up several shipping companies, said dredging would allow Ramsgate to be ready in time.</p> <p>“Dredging is starting this week. There is a dredger down there now and we’ll have berths and we will commence a service with two vessels before the end of March.”</p> <p>He said it was common practice for cross-Channel freight companies to charter boats rather than owning them, but declined to say from which ship-owning company Seaborne would lease the vessels.</p> <p>Sharp said Seaborne had been set up with the involvement of haulage companies looking to increase cross-Channel capacity, rather than to capitalise on opportunities presented by the prospect of a no-deal Brexit.</p> <p>“We embarked on this project regardless of Brexit as a haulage industry opportunity. They [haulage firms] are buying capacity from us. Don’t look at this through the prism of Brexit. We didn’t invest in this on the expectation of anything from the government.” </p> <p>Theresa May’s spokeswoman, when asked if No 10 was confident Seaborne could do what was asked, said: “As with all contracts, DfT carefully vetted the company’s commercial, technical and financial position before making the award.”</p> <p>Seaborne is the smallest and the only British company of three ferry firms that won nearly £103m of contracts to provide capacity at ports including Poole, Portsmouth, Plymouth, Immingham and Felixstowe. The other two are Denmark’s DFDS and France’s Brittany Ferries.</p> <p>Without additional capacity, the DfT says delivery of critical goods such as foods and medicines could be delayed by congestion at ports and there could also be “significant wider disruption to the UK economy” and to the road network in Kent.</p> <p>A DfT spokesperson said the contracts were awarded via a “highly urgent” procurement process but insisted the bidding was open to multiple operators.</p> <p>If a deal is reached with Brussels, the DfT is expected to try to recoup some of its costs by selling the ferry capacity back to the freight market.</p> <p>Seaborne Freight launched in April 2017 with the aim of running a ferry freight service from Ramsgate to Ostend. It is exempt from filing full accounts with Companies House because of its small size.</p> <p>Publicly available documents show that it was founded in late 2017 by several former employees of My Ferry Link, a cross-Channel service previously owned by Eurotunnel.</p> <p>The company had assets of just £36,602 as of 30 April, including £799 cash in the bank. It has debts of £416,607, due for repayment within a year. During the last financial year it paid consultancy fees to its directors, worth a combined £81,778.</p> <p>Seaborne Freight’s founder Glenn Dudley was previously the freight sales and marketing manager for My Ferry Link, which operated two cross-Channel ferries. A fellow director, Jean-Michel Copyans, is a former MyFerryLink cargo director.</p> <p>My Ferry Link was sold to the rival ferry firm DFDS in 2017 amid a monopoly investigation by the Competition and Markets Authority into whether Eurotunnel should be allowed to run cross-Channel ships.</p>',\n",
              "  'bodyText': 'A former Royal Navy submarine officer who runs the ferry company awarded a £13.8m government contract to operate cross-Channel freight services in the event of a no-deal Brexit says the firm will charter vessels in time to launch before the end of March. Ben Sharp, the chief executive of Seaborne Freight, dismissed concerns about the company’s ability to run a cargo service after it was revealed that it does not own any boats. He said the firm was run by a collection of “old dogs”, backed by City investors, and would be ready to launch a cargo service between Ramsgate in Kent and the Belgian port of Ostend before the UK’s exit from the EU, due on 29 March. “Seaborne Freight will not be a ship owner, we are chartering in ships,” he told the Guardian. “It’s a unique combination of seafaring, City and finance and ferry industry experience – decades of it. This is not a startup. We’re all old dogs at this.” Paul Messenger, a Conservative county councillor for Ramsgate, had questioned whether Ramsgate was capable of receiving cargo ships given the low capacity of berths at the port. But Sharp, who spent 10 years in the Royal Navy before setting up several shipping companies, said dredging would allow Ramsgate to be ready in time. “Dredging is starting this week. There is a dredger down there now and we’ll have berths and we will commence a service with two vessels before the end of March.” He said it was common practice for cross-Channel freight companies to charter boats rather than owning them, but declined to say from which ship-owning company Seaborne would lease the vessels. Sharp said Seaborne had been set up with the involvement of haulage companies looking to increase cross-Channel capacity, rather than to capitalise on opportunities presented by the prospect of a no-deal Brexit. “We embarked on this project regardless of Brexit as a haulage industry opportunity. They [haulage firms] are buying capacity from us. Don’t look at this through the prism of Brexit. We didn’t invest in this on the expectation of anything from the government.” Theresa May’s spokeswoman, when asked if No 10 was confident Seaborne could do what was asked, said: “As with all contracts, DfT carefully vetted the company’s commercial, technical and financial position before making the award.” Seaborne is the smallest and the only British company of three ferry firms that won nearly £103m of contracts to provide capacity at ports including Poole, Portsmouth, Plymouth, Immingham and Felixstowe. The other two are Denmark’s DFDS and France’s Brittany Ferries. Without additional capacity, the DfT says delivery of critical goods such as foods and medicines could be delayed by congestion at ports and there could also be “significant wider disruption to the UK economy” and to the road network in Kent. A DfT spokesperson said the contracts were awarded via a “highly urgent” procurement process but insisted the bidding was open to multiple operators. If a deal is reached with Brussels, the DfT is expected to try to recoup some of its costs by selling the ferry capacity back to the freight market. Seaborne Freight launched in April 2017 with the aim of running a ferry freight service from Ramsgate to Ostend. It is exempt from filing full accounts with Companies House because of its small size. Publicly available documents show that it was founded in late 2017 by several former employees of My Ferry Link, a cross-Channel service previously owned by Eurotunnel. The company had assets of just £36,602 as of 30 April, including £799 cash in the bank. It has debts of £416,607, due for repayment within a year. During the last financial year it paid consultancy fees to its directors, worth a combined £81,778. Seaborne Freight’s founder Glenn Dudley was previously the freight sales and marketing manager for My Ferry Link, which operated two cross-Channel ferries. A fellow director, Jean-Michel Copyans, is a former MyFerryLink cargo director. My Ferry Link was sold to the rival ferry firm DFDS in 2017 amid a monopoly investigation by the Competition and Markets Authority into whether Eurotunnel should be allowed to run cross-Channel ships.',\n",
              "  'byline': 'Rob Davies',\n",
              "  'bylineHtml': '<a href=\"profile/rob-davies\">Rob Davies</a>',\n",
              "  'charCount': '4168',\n",
              "  'firstPublicationDate': '2018-12-31T13:08:11Z',\n",
              "  'headline': 'Brexit ferry firm says it will be up and running before end of March',\n",
              "  'isInappropriateForSponsorship': 'false',\n",
              "  'isLive': 'true',\n",
              "  'isPremoderated': 'false',\n",
              "  'lang': 'en',\n",
              "  'lastModified': '2020-02-03T12:00:18Z',\n",
              "  'legallySensitive': 'false',\n",
              "  'main': '<figure class=\"element element-image\" data-media-id=\"3dd164fb226513f5f773a26d9df076062e0b57b6\"> <img src=\"https://media.guim.co.uk/3dd164fb226513f5f773a26d9df076062e0b57b6/0_357_4800_2879/1000.jpg\" alt=\"The port of Ramsgate in Kent\" width=\"1000\" height=\"600\" class=\"gu-image\" /> <figcaption> <span class=\"element-image__caption\">Seaborne’s chief executive says it will be ready to launch a cargo service between Ramsgate (above) and Ostend before Britain exits the EU on 29 March.</span> <span class=\"element-image__credit\">Photograph: Alamy</span> </figcaption> </figure>',\n",
              "  'newspaperEditionDate': '2019-01-01T00:00:00Z',\n",
              "  'newspaperPageNumber': '10',\n",
              "  'productionOffice': 'UK',\n",
              "  'publication': 'The Guardian',\n",
              "  'shortUrl': 'https://gu.com/p/abeqm',\n",
              "  'shouldHideAdverts': 'false',\n",
              "  'shouldHideReaderRevenue': 'false',\n",
              "  'showAffiliateLinks': 'false',\n",
              "  'showInRelatedContent': 'true',\n",
              "  'standfirst': '<p>Seaborne boss defends ability to run cargo service, saying it has ‘decades of experience’</p>',\n",
              "  'thumbnail': 'https://media.guim.co.uk/cf618b5581afde05293019a4e222c62694b88a91/0_102_2352_1411/500.jpg',\n",
              "  'trailText': 'Seaborne boss defends ability to run cargo service, saying it has ‘decades of experience’',\n",
              "  'wordcount': '706'},\n",
              " 'id': 'politics/2018/dec/31/brexit-ferry-firm-seaborne-says-it-will-be-up-and-running-before-end-of-march',\n",
              " 'isHosted': False,\n",
              " 'pillarId': 'pillar/news',\n",
              " 'pillarName': 'News',\n",
              " 'sectionId': 'politics',\n",
              " 'sectionName': 'Politics',\n",
              " 'type': 'article',\n",
              " 'webPublicationDate': '2018-12-31T13:08:11Z',\n",
              " 'webTitle': 'Brexit ferry firm says it will be up and running before end of March',\n",
              " 'webUrl': 'https://www.theguardian.com/politics/2018/dec/31/brexit-ferry-firm-seaborne-says-it-will-be-up-and-running-before-end-of-march'}"
            ]
          },
          "metadata": {
            "tags": []
          },
          "execution_count": 18
        }
      ]
    },
    {
      "cell_type": "code",
      "metadata": {
        "id": "FKwe95TMk_C5",
        "colab_type": "code",
        "colab": {
          "base_uri": "https://localhost:8080/",
          "height": 119
        },
        "outputId": "51cc1a59-d873-4eff-955f-a6f4e7f10b9c"
      },
      "source": [
        "# Checking possible article types\n",
        "article_types = []\n",
        "url = 'http://content.guardianapis.com/search'\n",
        "# Date Format - 2014-02-17\n",
        "params = {'from-date': 0,\n",
        "        'to-date': '2019-01-31',\n",
        "        'show-fields': 'all',\n",
        "        'page':1,\n",
        "        'page-size': 50,\n",
        "        'api-key': api_key}\n",
        "\n",
        "for year in range(2015,2020):\n",
        "    print(\"Year\",year,end='')\n",
        "    params['from-date'] = str(year)+'-01-01'\n",
        "    params['to-date'] = str(year)+'-12-31'\n",
        "    params['page'] = 1\n",
        "    # Extra call necessary to get number of pages \n",
        "    response = requests.get(url, params)\n",
        "    if response.status_code !=200:\n",
        "        print(\"API Error!\\n\")\n",
        "        break\n",
        "    pages = response.json()['response']['pages']\n",
        "    current_page = 1\n",
        "    while current_page <= 10:\n",
        "        print(\".\",end='')\n",
        "        params['page'] = current_page\n",
        "        response = requests.get(url, params)\n",
        "        if response.status_code !=200:\n",
        "            print(\"API Error!\\n\")\n",
        "            break\n",
        "        articles = response.json()['response']['results']\n",
        "        for a in articles:\n",
        "            if a['type'] not in article_types:\n",
        "                article_types.append(a['type'])\n",
        "        current_page+=1\n",
        "        time.sleep(5) # Adding time delay to not hit API calls per minute limit\n",
        "    print('')\n",
        "article_types"
      ],
      "execution_count": 19,
      "outputs": [
        {
          "output_type": "stream",
          "text": [
            "Year 2015..........\n",
            "Year 2016..........\n",
            "Year 2017..........\n",
            "Year 2018..........\n",
            "Year 2019..........\n"
          ],
          "name": "stdout"
        },
        {
          "output_type": "execute_result",
          "data": {
            "text/plain": [
              "['article', 'interactive', 'liveblog']"
            ]
          },
          "metadata": {
            "tags": []
          },
          "execution_count": 19
        }
      ]
    },
    {
      "cell_type": "code",
      "metadata": {
        "id": "wud1s8aTk_C9",
        "colab_type": "code",
        "colab": {}
      },
      "source": [
        ""
      ],
      "execution_count": 19,
      "outputs": []
    }
  ]
}