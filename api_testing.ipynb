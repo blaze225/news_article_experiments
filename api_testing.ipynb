{
 "cells": [
  {
   "cell_type": "code",
   "execution_count": 1,
   "metadata": {},
   "outputs": [],
   "source": [
    "import requests"
   ]
  },
  {
   "cell_type": "markdown",
   "metadata": {},
   "source": [
    "# NY Times"
   ]
  },
  {
   "cell_type": "code",
   "execution_count": 2,
   "metadata": {},
   "outputs": [],
   "source": [
    "# NY TIMES API \n",
    "api_key = 'gkHhhsov9LrY3D0rs7UybUHaytbIAmve'"
   ]
  },
  {
   "cell_type": "code",
   "execution_count": 27,
   "metadata": {},
   "outputs": [
    {
     "data": {
      "text/plain": [
       "'https://api.nytimes.com/svc/archive/v1/2015/1.json?&api-key=gkHhhsov9LrY3D0rs7UybUHaytbIAmve'"
      ]
     },
     "execution_count": 27,
     "metadata": {},
     "output_type": "execute_result"
    }
   ],
   "source": [
    "# Getting all articles from a specific year and month\n",
    "month = '1'\n",
    "year = '2015'\n",
    "url = 'https://api.nytimes.com/svc/archive/v1/'+year+'/'+month+'.json?&api-key='+api_key\n",
    "url"
   ]
  },
  {
   "cell_type": "code",
   "execution_count": 28,
   "metadata": {},
   "outputs": [
    {
     "name": "stdout",
     "output_type": "stream",
     "text": [
      "<Response [200]>\n"
     ]
    }
   ],
   "source": [
    "response = requests.get(url)\n",
    "print(response)"
   ]
  },
  {
   "cell_type": "code",
   "execution_count": 29,
   "metadata": {},
   "outputs": [],
   "source": [
    "result = response.json()"
   ]
  },
  {
   "cell_type": "code",
   "execution_count": 30,
   "metadata": {},
   "outputs": [
    {
     "data": {
      "text/plain": [
       "11698"
      ]
     },
     "execution_count": 30,
     "metadata": {},
     "output_type": "execute_result"
    }
   ],
   "source": [
    "# Number of articles retreived in a single call\n",
    "articles = result['response']['docs']\n",
    "len(articles)"
   ]
  },
  {
   "cell_type": "code",
   "execution_count": 45,
   "metadata": {},
   "outputs": [
    {
     "data": {
      "text/plain": [
       "dict_keys(['web_url', 'snippet', 'abstract', 'print_page', 'blog', 'source', 'multimedia', 'headline', 'keywords', 'pub_date', 'document_type', 'news_desk', 'section_name', 'byline', 'type_of_material', '_id', 'word_count', 'score'])"
      ]
     },
     "execution_count": 45,
     "metadata": {},
     "output_type": "execute_result"
    }
   ],
   "source": [
    "articles[1001].keys()"
   ]
  },
  {
   "cell_type": "code",
   "execution_count": 46,
   "metadata": {},
   "outputs": [
    {
     "name": "stdout",
     "output_type": "stream",
     "text": [
      "News types: ['Slideshow', 'Interactive Feature', 'Video', 'Blog', 'Paid Death Notice', 'News', 'Op-Ed', 'Schedule', 'List', 'Letter', 'Review', 'Brief', 'Editorial', 'Quote', 'Obituary', 'Question', 'Text', 'Biography', 'An Analysis; News Analysis', 'Correction', 'Obituary (Obit)', 'News Analysis', 'Interview', 'An Appraisal', 'Special Report']\n"
     ]
    }
   ],
   "source": [
    "# Checking possible article types via 'type_of_material'\n",
    "material_types = []\n",
    "for a in articles:\n",
    "    try:\n",
    "        if a['type_of_material'] not in material_types:\n",
    "            material_types.append(a['type_of_material'])\n",
    "    except:\n",
    "        pass\n",
    "    \n",
    "print(\"News types:\", material_types)"
   ]
  },
  {
   "cell_type": "code",
   "execution_count": 55,
   "metadata": {},
   "outputs": [
    {
     "name": "stdout",
     "output_type": "stream",
     "text": [
      "27 ( 0.2308086852453411 %)\n"
     ]
    }
   ],
   "source": [
    "# Counting articles which dont have 'type_of_material' : Very Less\n",
    "# Bad Data\n",
    "count=0\n",
    "for a in articles:\n",
    "    try:\n",
    "        if a['type_of_material']:\n",
    "            pass\n",
    "    except:\n",
    "       count+=1\n",
    "print(count ,\"(\", (count/len(articles))*100,\"%)\")"
   ]
  },
  {
   "cell_type": "code",
   "execution_count": 19,
   "metadata": {},
   "outputs": [
    {
     "name": "stdout",
     "output_type": "stream",
     "text": [
      "https://www.nytimes.com/2019/01/03/world/australia/david-goldblatt-photography-sydney.html\n"
     ]
    }
   ],
   "source": [
    "# Verifying usable article types by checking links manually\n",
    "# 'type_of_material' Review is not needed\n",
    "# Usable article types: News, Op-Ed, Editorial, News Analysis\n",
    "for a in articles:\n",
    "    try:\n",
    "        if a['type_of_material'] == 'Newsletter':\n",
    "            print(a['web_url'])\n",
    "            break\n",
    "    except:\n",
    "        pass"
   ]
  },
  {
   "cell_type": "code",
   "execution_count": 58,
   "metadata": {},
   "outputs": [
    {
     "name": "stdout",
     "output_type": "stream",
     "text": [
      "% articles that will be considered: 44.452043084287915\n"
     ]
    }
   ],
   "source": [
    "# Usable 'type_of_material':\n",
    "article_filter = ['News', 'Op-Ed', 'News Analysis', 'Editorial']\n",
    "consider=0\n",
    "for a in articles:\n",
    "    try:\n",
    "        if a['type_of_material'] in article_filter:\n",
    "            consider+=1\n",
    "    except:\n",
    "        pass\n",
    "\n",
    "print(\"% articles that will be considered:\",(consider/len(articles))*100)"
   ]
  },
  {
   "cell_type": "code",
   "execution_count": 11,
   "metadata": {},
   "outputs": [
    {
     "data": {
      "text/plain": [
       "{'web_url': 'https://www.nytimes.com/2019/01/03/opinion/house-democrats-watergate-1974.html',\n",
       " 'snippet': 'New House members should study how their earlier counterparts saw their jobs and their relationship to constituents. For starters, keep it local. ',\n",
       " 'lead_paragraph': 'New House members should study how their earlier counterparts saw their jobs and their relationship to constituents. For starters, keep it local. ',\n",
       " 'print_page': '19',\n",
       " 'blog': [],\n",
       " 'source': 'The New York Times',\n",
       " 'multimedia': [{'rank': 0,\n",
       "   'subtype': 'xlarge',\n",
       "   'caption': None,\n",
       "   'credit': None,\n",
       "   'type': 'image',\n",
       "   'url': 'images/2019/01/03/opinion/03Schmitt/03Schmitt-articleLarge.jpg',\n",
       "   'height': 390,\n",
       "   'width': 600,\n",
       "   'legacy': {'xlarge': 'images/2019/01/03/opinion/03Schmitt/03Schmitt-articleLarge.jpg',\n",
       "    'xlargewidth': 600,\n",
       "    'xlargeheight': 390},\n",
       "   'subType': 'xlarge',\n",
       "   'crop_name': 'articleLarge'},\n",
       "  {'rank': 0,\n",
       "   'subtype': 'thumbnail',\n",
       "   'caption': None,\n",
       "   'credit': None,\n",
       "   'type': 'image',\n",
       "   'url': 'images/2019/01/03/opinion/03Schmitt/03Schmitt-thumbStandard.jpg',\n",
       "   'height': 75,\n",
       "   'width': 75,\n",
       "   'legacy': {'thumbnail': 'images/2019/01/03/opinion/03Schmitt/03Schmitt-thumbStandard.jpg',\n",
       "    'thumbnailwidth': 75,\n",
       "    'thumbnailheight': 75},\n",
       "   'subType': 'thumbnail',\n",
       "   'crop_name': 'thumbStandard'},\n",
       "  {'rank': 0,\n",
       "   'subtype': 'jumbo',\n",
       "   'caption': None,\n",
       "   'credit': None,\n",
       "   'type': 'image',\n",
       "   'url': 'images/2019/01/03/opinion/03Schmitt/03Schmitt-jumbo.jpg',\n",
       "   'height': 666,\n",
       "   'width': 1024,\n",
       "   'legacy': [],\n",
       "   'subType': 'jumbo',\n",
       "   'crop_name': 'jumbo'},\n",
       "  {'rank': 0,\n",
       "   'subtype': 'superJumbo',\n",
       "   'caption': None,\n",
       "   'credit': None,\n",
       "   'type': 'image',\n",
       "   'url': 'images/2019/01/03/opinion/03Schmitt/03Schmitt-superJumbo.jpg',\n",
       "   'height': 1332,\n",
       "   'width': 2048,\n",
       "   'legacy': [],\n",
       "   'subType': 'superJumbo',\n",
       "   'crop_name': 'superJumbo'},\n",
       "  {'rank': 0,\n",
       "   'subtype': 'thumbLarge',\n",
       "   'caption': None,\n",
       "   'credit': None,\n",
       "   'type': 'image',\n",
       "   'url': 'images/2019/01/03/opinion/03Schmitt/03Schmitt-thumbLarge.jpg',\n",
       "   'height': 150,\n",
       "   'width': 150,\n",
       "   'legacy': [],\n",
       "   'subType': 'thumbLarge',\n",
       "   'crop_name': 'thumbLarge'}],\n",
       " 'headline': {'main': 'The Watergate Class of ’74 Has Valuable Lessons for Freshman Democrats',\n",
       "  'kicker': None,\n",
       "  'content_kicker': None,\n",
       "  'print_headline': 'Lessons for Freshman Democrats',\n",
       "  'name': None,\n",
       "  'seo': None,\n",
       "  'sub': None},\n",
       " 'keywords': [{'name': 'organizations',\n",
       "   'value': 'House of Representatives',\n",
       "   'rank': 1,\n",
       "   'major': 'N'},\n",
       "  {'name': 'organizations', 'value': 'Senate', 'rank': 2, 'major': 'N'},\n",
       "  {'name': 'organizations',\n",
       "   'value': 'Democratic Party',\n",
       "   'rank': 3,\n",
       "   'major': 'N'},\n",
       "  {'name': 'organizations',\n",
       "   'value': 'Republican Party',\n",
       "   'rank': 4,\n",
       "   'major': 'N'},\n",
       "  {'name': 'subject',\n",
       "   'value': 'United States Politics and Government',\n",
       "   'rank': 5,\n",
       "   'major': 'N'},\n",
       "  {'name': 'subject',\n",
       "   'value': 'Political Action Committees',\n",
       "   'rank': 6,\n",
       "   'major': 'N'},\n",
       "  {'name': 'subject', 'value': 'Watergate Affair', 'rank': 7, 'major': 'N'}],\n",
       " 'pub_date': '2019-01-03T11:00:04+0000',\n",
       " 'document_type': 'article',\n",
       " 'news_desk': 'OpEd',\n",
       " 'section_name': 'Opinion',\n",
       " 'byline': {'original': 'By MARK SCHMITT',\n",
       "  'person': [{'firstname': 'Mark',\n",
       "    'middlename': None,\n",
       "    'lastname': 'SCHMITT',\n",
       "    'qualifier': None,\n",
       "    'title': None,\n",
       "    'role': 'reported',\n",
       "    'organization': '',\n",
       "    'rank': 1}],\n",
       "  'organization': None},\n",
       " 'type_of_material': 'Op-Ed',\n",
       " '_id': '5c2deb373a125f5075c02a8a',\n",
       " 'word_count': 1155,\n",
       " 'score': 0,\n",
       " 'uri': 'nyt://article/1d7d4f0e-54c0-51a9-b52c-66bd0bfa22c0'}"
      ]
     },
     "execution_count": 11,
     "metadata": {},
     "output_type": "execute_result"
    }
   ],
   "source": [
    "articles[500]\n",
    "# Fields of use: web_url, abstract (maybe), byline (for author)\n",
    "# news_desk, section_name, type_of_material"
   ]
  },
  {
   "cell_type": "markdown",
   "metadata": {},
   "source": [
    "# Guardian"
   ]
  },
  {
   "cell_type": "code",
   "execution_count": 59,
   "metadata": {},
   "outputs": [],
   "source": [
    "# Guardian API Key\n",
    "api_key = 'bcf0c5ca-6041-4073-9247-cdd4242543b7'"
   ]
  },
  {
   "cell_type": "code",
   "execution_count": 84,
   "metadata": {},
   "outputs": [
    {
     "data": {
      "text/plain": [
       "'http://content.guardianapis.com/search?from-date=2014-01-01&to-date=2014-01-31&page=10&page-size=50&api-key=bcf0c5ca-6041-4073-9247-cdd4242543b7&show-fields=all'"
      ]
     },
     "execution_count": 84,
     "metadata": {},
     "output_type": "execute_result"
    }
   ],
   "source": [
    "from_date = '2014-01-01'\n",
    "to_date = '2014-01-31'\n",
    "page_size = '50'\n",
    "page = '10'\n",
    "url = 'http://content.guardianapis.com/search?from-date='+from_date+'&to-date='+to_date+'&page='+page+'&page-size='+page_size+'&api-key='+api_key+'&show-fields=all'\n",
    "url"
   ]
  },
  {
   "cell_type": "code",
   "execution_count": 85,
   "metadata": {},
   "outputs": [
    {
     "name": "stdout",
     "output_type": "stream",
     "text": [
      "<Response [200]>\n"
     ]
    }
   ],
   "source": [
    "response = requests.get(url)\n",
    "print(response)"
   ]
  },
  {
   "cell_type": "code",
   "execution_count": 86,
   "metadata": {},
   "outputs": [],
   "source": [
    "result = response.json()"
   ]
  },
  {
   "cell_type": "code",
   "execution_count": 89,
   "metadata": {},
   "outputs": [],
   "source": [
    "num_pages = result['response']['pages']\n",
    "# result['response']"
   ]
  },
  {
   "cell_type": "code",
   "execution_count": 94,
   "metadata": {},
   "outputs": [],
   "source": [
    "articles = result['response']['results']"
   ]
  },
  {
   "cell_type": "code",
   "execution_count": 93,
   "metadata": {},
   "outputs": [
    {
     "data": {
      "text/plain": [
       "['article', 'gallery', 'video']"
      ]
     },
     "execution_count": 93,
     "metadata": {},
     "output_type": "execute_result"
    }
   ],
   "source": [
    "# Checking article types\n",
    "article_types = []\n",
    "for a in articles:\n",
    "    if a['type'] not in article_types:\n",
    "        article_types.append(a['type'])\n",
    "article_types"
   ]
  },
  {
   "cell_type": "code",
   "execution_count": 95,
   "metadata": {},
   "outputs": [
    {
     "data": {
      "text/plain": [
       "{'id': 'world/video/2014/jan/30/amanda-knox-exclusive-video-interview-guilty-video',\n",
       " 'type': 'video',\n",
       " 'sectionId': 'us-news',\n",
       " 'sectionName': 'US news',\n",
       " 'webPublicationDate': '2014-01-30T21:00:00Z',\n",
       " 'webTitle': 'Exclusive video interview with Amanda Knox',\n",
       " 'webUrl': 'https://www.theguardian.com/world/video/2014/jan/30/amanda-knox-exclusive-video-interview-guilty-video',\n",
       " 'apiUrl': 'https://content.guardianapis.com/world/video/2014/jan/30/amanda-knox-exclusive-video-interview-guilty-video',\n",
       " 'fields': {'headline': 'Exclusive video interview with Amanda Knox',\n",
       "  'standfirst': '<p>In 2011 Amanda Knox’s conviction in Italy for the murder of British student Meredith Kercher was quashed, and she returned home to the United States. Last year Italy’s supreme court ordered a retrial, which on Thursday convicted her of murder for a second time. She spent the days leading up to the verdict with the Guardian’s Simon Hattenstone. Here she discusses the case and how it has affected her</p>',\n",
       "  'trailText': 'Amanda Knox spent the days leading up to the retrial verdict with the Guardian’s Simon Hattenstone. Here she discusses the Meredith Kercher murder case and how it has affected her',\n",
       "  'byline': 'Simon Hattenstone,  Alex Healey and Mustafa Khalili',\n",
       "  'main': '<video data-media-id=\"gu-video-428499269\" class=\"gu-video\" controls=\"controls\" poster=\"http://static.guim.co.uk/sys-images/Guardian/Pix/audio/video/2014/1/30/1391096767803/Amanda-Knox-in-kitchen-016.jpg\"> <source src=\"http://cdn.theguardian.tv/mainwebsite/2014/03/04/140130AmandaKnoxGV-16x9.mp4\"/><source src=\"http://cdn.theguardian.tv/webM/2014/03/04/140130AmandaKnoxGV.webm\"/><source src=\"http://cdn.theguardian.tv/3gp/large/2014/03/04/140130AmandaKnoxGV_3gpLg16x9.3gp\"/><source src=\"http://cdn.theguardian.tv/HLS/2014/03/04/140130AmandaKnoxGV/140130AmandaKnoxGV.m3u8\"/><source src=\"http://cdn.theguardian.tv/3gp/small/2014/03/04/140130AmandaKnoxGV_3gpSml16x9.3gp\"/> </video>',\n",
       "  'body': '',\n",
       "  'wordcount': '0',\n",
       "  'isInappropriateForSponsorship': 'false',\n",
       "  'isPremoderated': 'false',\n",
       "  'lastModified': '2018-03-04T12:54:21Z',\n",
       "  'productionOffice': 'UK',\n",
       "  'publication': 'theguardian.com',\n",
       "  'shortUrl': 'https://gu.com/p/3mb4m',\n",
       "  'shouldHideAdverts': 'false',\n",
       "  'showInRelatedContent': 'true',\n",
       "  'lang': 'en',\n",
       "  'bodyText': '',\n",
       "  'charCount': '0',\n",
       "  'bylineHtml': '<span data-tag-id=\"16457\" class=\"contributor\">Simon Hattenstone</span>,  <span data-tag-id=\"34189\" class=\"contributor\">Alex Healey</span> and <span data-tag-id=\"31262\" class=\"contributor\">Mustafa Khalili</span>'},\n",
       " 'isHosted': False,\n",
       " 'pillarId': 'pillar/news',\n",
       " 'pillarName': 'News'}"
      ]
     },
     "execution_count": 95,
     "metadata": {},
     "output_type": "execute_result"
    }
   ],
   "source": [
    "result['response']['results'][49]\n",
    "# Imp fields: webTitle, fields->bodyText (full article text), byline (author)"
   ]
  },
  {
   "cell_type": "code",
   "execution_count": null,
   "metadata": {},
   "outputs": [],
   "source": []
  }
 ],
 "metadata": {
  "kernelspec": {
   "display_name": "Python 3",
   "language": "python",
   "name": "python3"
  },
  "language_info": {
   "codemirror_mode": {
    "name": "ipython",
    "version": 3
   },
   "file_extension": ".py",
   "mimetype": "text/x-python",
   "name": "python",
   "nbconvert_exporter": "python",
   "pygments_lexer": "ipython3",
   "version": "3.7.3"
  }
 },
 "nbformat": 4,
 "nbformat_minor": 2
}
