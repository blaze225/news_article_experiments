{
 "cells": [
  {
   "cell_type": "code",
   "execution_count": 60,
   "metadata": {},
   "outputs": [],
   "source": [
    "import requests"
   ]
  },
  {
   "cell_type": "markdown",
   "metadata": {},
   "source": [
    "# NY Times"
   ]
  },
  {
   "cell_type": "code",
   "execution_count": 78,
   "metadata": {},
   "outputs": [],
   "source": [
    "# NY TIMES API \n",
    "api_key = 'gkHhhsov9LrY3D0rs7UybUHaytbIAmve'"
   ]
  },
  {
   "cell_type": "code",
   "execution_count": 79,
   "metadata": {},
   "outputs": [
    {
     "data": {
      "text/plain": [
       "'https://api.nytimes.com/svc/archive/v1/2014/1.json?&api-key=gkHhhsov9LrY3D0rs7UybUHaytbIAmve'"
      ]
     },
     "execution_count": 79,
     "metadata": {},
     "output_type": "execute_result"
    }
   ],
   "source": [
    "# Getting all articles from a specific year and month\n",
    "month = '1'\n",
    "year = '2014'\n",
    "url = 'https://api.nytimes.com/svc/archive/v1/'+year+'/'+month+'.json?&api-key='+api_key\n",
    "url"
   ]
  },
  {
   "cell_type": "code",
   "execution_count": 80,
   "metadata": {},
   "outputs": [
    {
     "name": "stdout",
     "output_type": "stream",
     "text": [
      "<Response [200]>\n"
     ]
    }
   ],
   "source": [
    "response = requests.get(url)\n",
    "print(response)"
   ]
  },
  {
   "cell_type": "code",
   "execution_count": 64,
   "metadata": {},
   "outputs": [],
   "source": [
    "result = response.json()"
   ]
  },
  {
   "cell_type": "code",
   "execution_count": 69,
   "metadata": {},
   "outputs": [
    {
     "data": {
      "text/plain": [
       "8922"
      ]
     },
     "execution_count": 69,
     "metadata": {},
     "output_type": "execute_result"
    }
   ],
   "source": [
    "# Number of articles retreived in a single call\n",
    "articles = result['response']['docs']\n",
    "len(articles)"
   ]
  },
  {
   "cell_type": "code",
   "execution_count": 83,
   "metadata": {},
   "outputs": [
    {
     "data": {
      "text/plain": [
       "{'web_url': 'https://www.nytimes.com/2014/01/04/us/prosaic-pipe-stymied-seattles-big-bertha.html',\n",
       " 'snippet': 'What stopped the world&#8217;s biggest tunnel-boring machine? A cottage industry of speculation yields to mundane metal....',\n",
       " 'lead_paragraph': 'What stopped the world&#8217;s biggest tunnel-boring machine? A cottage industry of speculation yields to mundane metal.',\n",
       " 'abstract': \"Ordinary metal pipe that stopped Seattle's Big Bertha, world’s largest-diameter tunnel-boring machine, in its tracks is neither old nor very big; tale of object that stymied Bertha is still a mystery but city managers are focusing on why pipe was left down there, why its presence was not known to tunnel crews, and what will be involved in getting it out.\",\n",
       " 'print_page': '13',\n",
       " 'blog': [],\n",
       " 'source': 'The New York Times',\n",
       " 'multimedia': [{'width': 190,\n",
       "   'url': 'images/2014/01/04/us/TUNNEL/TUNNEL-thumbWide.jpg',\n",
       "   'height': 126,\n",
       "   'subtype': 'wide',\n",
       "   'legacy': {'wide': 'images/2014/01/04/us/TUNNEL/TUNNEL-thumbWide.jpg',\n",
       "    'wideheight': '126',\n",
       "    'widewidth': '190'},\n",
       "   'type': 'image'},\n",
       "  {'width': 600,\n",
       "   'url': 'images/2014/01/04/us/TUNNEL/TUNNEL-articleLarge.jpg',\n",
       "   'height': 395,\n",
       "   'subtype': 'xlarge',\n",
       "   'legacy': {'xlargewidth': '600',\n",
       "    'xlarge': 'images/2014/01/04/us/TUNNEL/TUNNEL-articleLarge.jpg',\n",
       "    'xlargeheight': '395'},\n",
       "   'type': 'image'},\n",
       "  {'width': 75,\n",
       "   'url': 'images/2014/01/04/us/TUNNEL/TUNNEL-thumbStandard.jpg',\n",
       "   'height': 75,\n",
       "   'subtype': 'thumbnail',\n",
       "   'legacy': {'thumbnailheight': '75',\n",
       "    'thumbnail': 'images/2014/01/04/us/TUNNEL/TUNNEL-thumbStandard.jpg',\n",
       "    'thumbnailwidth': '75'},\n",
       "   'type': 'image'}],\n",
       " 'headline': {'main': 'Prosaic Pipe Stymied Seattle’s Big Bertha',\n",
       "  'print_headline': 'Prosaic Pipe Stymied Seattle’s Big Bertha'},\n",
       " 'keywords': [{'rank': '3',\n",
       "   'is_major': 'N',\n",
       "   'value': 'Transportation Department (US)',\n",
       "   'name': 'organizations'},\n",
       "  {'rank': '1',\n",
       "   'is_major': 'Y',\n",
       "   'value': 'Bridges and Tunnels',\n",
       "   'name': 'subject'},\n",
       "  {'rank': '2',\n",
       "   'is_major': 'Y',\n",
       "   'value': 'Seattle (Wash)',\n",
       "   'name': 'glocations'},\n",
       "  {'rank': '4',\n",
       "   'is_major': 'N',\n",
       "   'value': 'Roads and Traffic',\n",
       "   'name': 'subject'}],\n",
       " 'pub_date': '2014-01-04T00:00:00Z',\n",
       " 'document_type': 'article',\n",
       " 'news_desk': 'National',\n",
       " 'section_name': 'U.S.',\n",
       " 'subsection_name': None,\n",
       " 'byline': {'contributor': '',\n",
       "  'person': [{'organization': '',\n",
       "    'role': 'reported',\n",
       "    'firstname': 'Kirk',\n",
       "    'rank': 1,\n",
       "    'lastname': 'JOHNSON'}],\n",
       "  'original': 'By KIRK JOHNSON'},\n",
       " 'type_of_material': 'News',\n",
       " '_id': '52c7674c38f0d82f3480cad5',\n",
       " 'word_count': '453',\n",
       " 'slideshow_credits': None}"
      ]
     },
     "execution_count": 83,
     "metadata": {},
     "output_type": "execute_result"
    }
   ],
   "source": [
    "articles[800]\n",
    "# Fields of use: web_url, abstract (maybe), byline (for author)"
   ]
  },
  {
   "cell_type": "markdown",
   "metadata": {},
   "source": [
    "# Guardian"
   ]
  },
  {
   "cell_type": "code",
   "execution_count": 84,
   "metadata": {},
   "outputs": [],
   "source": [
    "# Guardian API Key\n",
    "api_key = 'bcf0c5ca-6041-4073-9247-cdd4242543b7'"
   ]
  },
  {
   "cell_type": "code",
   "execution_count": 98,
   "metadata": {},
   "outputs": [
    {
     "data": {
      "text/plain": [
       "'http://content.guardianapis.com/search?from-date=2014-01-01&to-date=2014-01-31&api-key=bcf0c5ca-6041-4073-9247-cdd4242543b7&show-fields=all'"
      ]
     },
     "execution_count": 98,
     "metadata": {},
     "output_type": "execute_result"
    }
   ],
   "source": [
    "from_date = '2014-01-01'\n",
    "to_date = '2014-01-31'\n",
    "url = 'http://content.guardianapis.com/search?from-date='+from_date+'&to-date='+to_date+'&api-key='+api_key+'&show-fields=all'\n",
    "url"
   ]
  },
  {
   "cell_type": "code",
   "execution_count": 99,
   "metadata": {},
   "outputs": [
    {
     "name": "stdout",
     "output_type": "stream",
     "text": [
      "<Response [200]>\n"
     ]
    }
   ],
   "source": [
    "response = requests.get(url)\n",
    "print(response)"
   ]
  },
  {
   "cell_type": "code",
   "execution_count": 100,
   "metadata": {},
   "outputs": [],
   "source": [
    "result = response.json()"
   ]
  },
  {
   "cell_type": "code",
   "execution_count": 112,
   "metadata": {},
   "outputs": [
    {
     "data": {
      "text/plain": [
       "{'id': 'world/2014/jan/31/amanda-knox-extradition-us-politicians-crucial-role',\n",
       " 'type': 'article',\n",
       " 'sectionId': 'world',\n",
       " 'sectionName': 'World news',\n",
       " 'webPublicationDate': '2014-01-31T22:25:52Z',\n",
       " 'webTitle': 'Amanda Knox extradition: US leaders to play crucial role, experts say',\n",
       " 'webUrl': 'https://www.theguardian.com/world/2014/jan/31/amanda-knox-extradition-us-politicians-crucial-role',\n",
       " 'apiUrl': 'https://content.guardianapis.com/world/2014/jan/31/amanda-knox-extradition-us-politicians-crucial-role',\n",
       " 'fields': {'headline': 'Amanda Knox extradition: US leaders to play crucial role, experts say',\n",
       "  'standfirst': \"<p>White House attempting to stay out of Knox's case, but complex process of international extradition could take well over five years </p>\",\n",
       "  'trailText': \"White House attempting to stay out of Knox's case, but complex process of international extradition could take well over five years \",\n",
       "  'byline': 'Dan Roberts in Washington',\n",
       "  'main': '<figure class=\"element element-image\" data-media-id=\"gu-fc-0187b8ec-aec6-4767-b37b-0f5d69ca6025\"> <img src=\"http://static.guim.co.uk/sys-images/Guardian/Pix/pictures/2014/1/31/1391206827317/d7cbab92-37d1-4683-a9d0-e8c27e6ff38c-460x276.jpeg\" alt=\"Amanda Knox\" width=\"460\" height=\"276\" class=\"gu-image\" /> <figcaption> <span class=\"element-image__caption\">Amanda Knox after a TV interview in the US after her conviction was upheld. Photograph: Mark Lennihan/AP</span> <span class=\"element-image__credit\">Photograph: Mark Lennihan/AP</span> </figcaption> </figure>',\n",
       "  'body': \"<p>The White House attempted to stay out of the Amanda Knox case on Friday but legal experts say it is almost inevitable that US politicians will eventually play a crucial role in deciding whether the 26-year-old Seattle student returns to prison in Italy.<br></p> <p>It may not be the Obama administration that needs to worry about this thorny political conundrum however, as the complex process of international extradition proceedings that lies ahead could take well over five years to grind its way through various courts.<br></p> <p>The first step would come if and when the Italian government decides to lodge a formal extradition request with US authorities.<br></p> <p>This may not take place until after Knox's appeal to the Italian Supreme Court but once it comes, it presents the first opportunity for the US to reject such a request by refusing to process the claim.<br></p> <p>Such a step would be highly unprecedented however and could cause a serious diplomatic rift between the two countries.<br></p> <p>“It is rare for the US to deny extradition to countries like Italy, especially since it is both an important ally and a long-standing democracy,” said Washington extradition lawyer Bruce Zagaris.<br></p> <p>“The extradition treaty between the two countries is an important tool for tackling organised crime and terrorism and the US does not want to jeopardise that.”<br></p> <p>A more likely course of action, according to Zagaris, is that the US Department of Justice takes up the case on behalf of the Italian authorities and begins extradition proceedings.<br></p> <p>This can be drawn out process, with Knox usually able to appeal to higher courts in the US if a writ of habeas corpus is granted against her and typically takes between two and five years.<br></p> <p>“It would ultimately be up to the Secretary of State if the courts find her extraditable,” said Zagaris.<br></p> <p>“He can use either legal or humanitarian reasons to find that she should not be extradited.”<br></p> <p>One possible legal challenge could rest on the fact the Knox had already been acquitted once by an Italian appeal court in 2011.<br></p> <p>This appeal overturned her first conviction with former boyfriend Raffaele Sollecito which found them guilty of the murder of British student Meredith Kercher in Perugia in 2007.<br></p> <p>Italian prosecutors successfully sought this overturned by a higher appeal court which ordered the retrial that convicted her a second time in absentia on Thursday.</p> <p>But Knox's lawyers may argue to whoever is Secretary of State at the time that she has already served a sufficient amount of time in prison.<br></p> <p>The US has also refused to extradite individuals to Italy before on other grounds, most noticeably in the case of an airforce pilot who killed several Italians when his plane hit a ski lift.</p> <p>So far however, politicians seem keen to stay out and await legal opportunities to avoid any awkward decision.<br></p> <p>White House press secretary Jay Carney told reporters on Friday it would be inappropriate to comment while the case was still ongoing in the Italian courts and then it would be a matter for the Department of Justice to comment on.<br></p>\",\n",
       "  'wordcount': '512',\n",
       "  'commentCloseDate': '2014-02-03T22:30:52Z',\n",
       "  'commentable': 'true',\n",
       "  'firstPublicationDate': '2014-01-31T22:25:52Z',\n",
       "  'isPremoderated': 'false',\n",
       "  'lastModified': '2018-03-04T12:54:15Z',\n",
       "  'productionOffice': 'US',\n",
       "  'publication': 'theguardian.com',\n",
       "  'shortUrl': 'https://gu.com/p/3mcc4',\n",
       "  'shouldHideAdverts': 'false',\n",
       "  'showInRelatedContent': 'true',\n",
       "  'lang': 'en',\n",
       "  'bodyText': \"The White House attempted to stay out of the Amanda Knox case on Friday but legal experts say it is almost inevitable that US politicians will eventually play a crucial role in deciding whether the 26-year-old Seattle student returns to prison in Italy. It may not be the Obama administration that needs to worry about this thorny political conundrum however, as the complex process of international extradition proceedings that lies ahead could take well over five years to grind its way through various courts. The first step would come if and when the Italian government decides to lodge a formal extradition request with US authorities. This may not take place until after Knox's appeal to the Italian Supreme Court but once it comes, it presents the first opportunity for the US to reject such a request by refusing to process the claim. Such a step would be highly unprecedented however and could cause a serious diplomatic rift between the two countries. “It is rare for the US to deny extradition to countries like Italy, especially since it is both an important ally and a long-standing democracy,” said Washington extradition lawyer Bruce Zagaris. “The extradition treaty between the two countries is an important tool for tackling organised crime and terrorism and the US does not want to jeopardise that.” A more likely course of action, according to Zagaris, is that the US Department of Justice takes up the case on behalf of the Italian authorities and begins extradition proceedings. This can be drawn out process, with Knox usually able to appeal to higher courts in the US if a writ of habeas corpus is granted against her and typically takes between two and five years. “It would ultimately be up to the Secretary of State if the courts find her extraditable,” said Zagaris. “He can use either legal or humanitarian reasons to find that she should not be extradited.” One possible legal challenge could rest on the fact the Knox had already been acquitted once by an Italian appeal court in 2011. This appeal overturned her first conviction with former boyfriend Raffaele Sollecito which found them guilty of the murder of British student Meredith Kercher in Perugia in 2007. Italian prosecutors successfully sought this overturned by a higher appeal court which ordered the retrial that convicted her a second time in absentia on Thursday. But Knox's lawyers may argue to whoever is Secretary of State at the time that she has already served a sufficient amount of time in prison. The US has also refused to extradite individuals to Italy before on other grounds, most noticeably in the case of an airforce pilot who killed several Italians when his plane hit a ski lift. So far however, politicians seem keen to stay out and await legal opportunities to avoid any awkward decision. White House press secretary Jay Carney told reporters on Friday it would be inappropriate to comment while the case was still ongoing in the Italian courts and then it would be a matter for the Department of Justice to comment on.\",\n",
       "  'charCount': '3033',\n",
       "  'bylineHtml': '<span data-tag-id=\"29791\" class=\"contributor\">Dan Roberts</span> in Washington'},\n",
       " 'isHosted': False,\n",
       " 'pillarId': 'pillar/news',\n",
       " 'pillarName': 'News'}"
      ]
     },
     "execution_count": 112,
     "metadata": {},
     "output_type": "execute_result"
    }
   ],
   "source": [
    "result['response']['results'][9]\n",
    "# Imp fields: webUrl, fields->bodyText (full article text)"
   ]
  },
  {
   "cell_type": "code",
   "execution_count": null,
   "metadata": {},
   "outputs": [],
   "source": []
  }
 ],
 "metadata": {
  "kernelspec": {
   "display_name": "Python 3",
   "language": "python",
   "name": "python3"
  },
  "language_info": {
   "codemirror_mode": {
    "name": "ipython",
    "version": 3
   },
   "file_extension": ".py",
   "mimetype": "text/x-python",
   "name": "python",
   "nbconvert_exporter": "python",
   "pygments_lexer": "ipython3",
   "version": "3.7.3"
  }
 },
 "nbformat": 4,
 "nbformat_minor": 2
}
