{
 "cells": [
  {
   "cell_type": "code",
   "execution_count": 1,
   "metadata": {},
   "outputs": [],
   "source": [
    "import requests\n",
    "import time\n",
    "import matplotlib.pyplot as plt"
   ]
  },
  {
   "cell_type": "markdown",
   "metadata": {},
   "source": [
    "# NY Times"
   ]
  },
  {
   "cell_type": "code",
   "execution_count": 38,
   "metadata": {},
   "outputs": [],
   "source": [
    "# NY TIMES API \n",
    "api_key = 'gkHhhsov9LrY3D0rs7UybUHaytbIAmve'"
   ]
  },
  {
   "cell_type": "code",
   "execution_count": 39,
   "metadata": {},
   "outputs": [
    {
     "name": "stdout",
     "output_type": "stream",
     "text": [
      "Year: 2015............% Relevant articles in year 2015:  48.69779268008549\n",
      "Year: 2016............% Relevant articles in year 2016:  61.450386691001725\n",
      "Year: 2017............% Relevant articles in year 2017:  75.94328584210889\n",
      "Year: 2018............% Relevant articles in year 2018:  78.06178853886992\n",
      "Year: 2019............% Relevant articles in year 2019:  78.77627425551178\n"
     ]
    }
   ],
   "source": [
    "# Getting all relevant articles for last 5 years\n",
    "all_articles = []\n",
    "stats_dict = {}\n",
    "article_filter = ['News', 'Op-Ed', 'News Analysis', 'Editorial']\n",
    "year_totals = []\n",
    "\n",
    "for year in range(2015,2020):\n",
    "    print(\"Year:\",year,end='')\n",
    "    count_total = 0\n",
    "    count_relevant = 0\n",
    "    # Initializing the stats_dict structure\n",
    "    stats_dict[year] = {}\n",
    "    for type_ in article_filter:\n",
    "        stats_dict[year][type_]= 0\n",
    "\n",
    "    for month in range(1,13):\n",
    "        print(\".\",end='')\n",
    "        time.sleep(6) # Adding time delay to not hit API calls per minute limit\n",
    "        url = 'https://api.nytimes.com/svc/archive/v1/'+str(year)+'/'+str(month)+'.json?&api-key='+api_key\n",
    "        response = requests.get(url)\n",
    "        if response.status_code !=200:\n",
    "            print(\"API Error!\\n\")\n",
    "            break\n",
    "        articles = response.json()['response']['docs']\n",
    "        # Filtering articles which have 'type_of_material' key\n",
    "        articles = [a for a in articles if 'type_of_material' in a]\n",
    "        relevant_articles = [a for a in articles if a['type_of_material'] in article_filter]\n",
    "        count_total+=len(articles)\n",
    "        count_relevant+=len(relevant_articles)\n",
    "        # Populating stats for each article category per year\n",
    "        for type_ in article_filter:\n",
    "            stats_dict[year][type_] += len([a for a in relevant_articles if a['type_of_material']==type_])\n",
    "\n",
    "    year_totals.append(count_relevant)        \n",
    "    print(\"% Relevant articles in year \"+str(year)+\": \", (count_relevant/count_total)*100)"
   ]
  },
  {
   "cell_type": "code",
   "execution_count": 40,
   "metadata": {},
   "outputs": [
    {
     "data": {
      "text/plain": [
       "{2015: {'News': 43669, 'Op-Ed': 3111, 'News Analysis': 12, 'Editorial': 1281},\n",
       " 2016: {'News': 42282, 'Op-Ed': 3232, 'News Analysis': 77, 'Editorial': 1209},\n",
       " 2017: {'News': 49151, 'Op-Ed': 4613, 'News Analysis': 221, 'Editorial': 1184},\n",
       " 2018: {'News': 56521, 'Op-Ed': 6499, 'News Analysis': 309, 'Editorial': 926},\n",
       " 2019: {'News': 56990, 'Op-Ed': 6278, 'News Analysis': 335, 'Editorial': 784}}"
      ]
     },
     "execution_count": 40,
     "metadata": {},
     "output_type": "execute_result"
    }
   ],
   "source": [
    "stats_dict"
   ]
  },
  {
   "cell_type": "code",
   "execution_count": 44,
   "metadata": {},
   "outputs": [
    {
     "name": "stdout",
     "output_type": "stream",
     "text": [
      "% News type articles in year 2015: 90.83893245688847\n",
      "% News type articles in year 2016: 90.34615384615384\n",
      "% News type articles in year 2017: 89.09170004894052\n",
      "% News type articles in year 2018: 87.96358260057583\n",
      "% News type articles in year 2019: 88.5116560796434\n"
     ]
    }
   ],
   "source": [
    "for year in stats_dict:\n",
    "    count = 0\n",
    "    for types in stats_dict[year].keys():\n",
    "        count+=stats_dict[year][types]\n",
    "    print(\"% News type articles in year \"+str(year)+':',(stats_dict[year]['News']/count)*100)"
   ]
  },
  {
   "cell_type": "markdown",
   "metadata": {},
   "source": [
    "### -> Conclusion: Since majority are of the type 'News', it is safe just to consider these type of articles "
   ]
  },
  {
   "cell_type": "code",
   "execution_count": 50,
   "metadata": {},
   "outputs": [
    {
     "data": {
      "image/png": "[encoded data removed]",
      "text/plain": [
       "<Figure size 432x288 with 1 Axes>"
      ]
     },
     "metadata": {
      "needs_background": "light"
     },
     "output_type": "display_data"
    }
   ],
   "source": [
    "# Yearwise relevant articles(blue) and type 'News' articles(orange)\n",
    "type_news = [stats_dict[year]['News'] for year in stats_dict]\n",
    "plt.bar(list(stats_dict.keys()), year_totals)\n",
    "plt.bar(list(stats_dict.keys()), type_news)\n",
    "plt.show()"
   ]
  },
  {
   "cell_type": "code",
   "execution_count": 45,
   "metadata": {},
   "outputs": [
    {
     "data": {
      "image/png": "[encoded data removed]",
      "text/plain": [
       "<Figure size 1728x504 with 5 Axes>"
      ]
     },
     "metadata": {
      "needs_background": "light"
     },
     "output_type": "display_data"
    }
   ],
   "source": [
    "# Plotting stats_dict yearwise\n",
    "fig,ax = plt.subplots(1,5,figsize=(24,7))\n",
    "for i,year in enumerate(stats_dict.keys()):\n",
    "    lists = sorted(stats_dict[year].items()) # sorted by key, return a list of tuples\n",
    "    x, y = zip(*lists) # unpack a list of pairs into two tuples\n",
    "    ax[i].bar(x, y)\n",
    "    ax[i].set_title(str(year))\n",
    "plt.show()"
   ]
  },
  {
   "cell_type": "code",
   "execution_count": null,
   "metadata": {},
   "outputs": [],
   "source": []
  },
  {
   "cell_type": "markdown",
   "metadata": {},
   "source": [
    "# Guardian"
   ]
  },
  {
   "cell_type": "code",
   "execution_count": 2,
   "metadata": {},
   "outputs": [],
   "source": [
    "# Guardian API Key\n",
    "g_api_key = 'bcf0c5ca-6041-4073-9247-cdd4242543b7'"
   ]
  },
  {
   "cell_type": "code",
   "execution_count": 36,
   "metadata": {},
   "outputs": [],
   "source": [
    "# Inspecting possible article types\n",
    "article_types = []"
   ]
  },
  {
   "cell_type": "code",
   "execution_count": 37,
   "metadata": {},
   "outputs": [
    {
     "name": "stdout",
     "output_type": "stream",
     "text": [
      "Year 2015..........\n",
      "Year 2016..........\n",
      "Year 2017..........\n",
      "Year 2018..........\n",
      "Year 2019..........\n"
     ]
    },
    {
     "data": {
      "text/plain": [
       "['article', 'interactive', 'liveblog']"
      ]
     },
     "execution_count": 37,
     "metadata": {},
     "output_type": "execute_result"
    }
   ],
   "source": [
    "url = 'http://content.guardianapis.com/search'\n",
    "# Date Format - 2014-02-17\n",
    "params = {'from-date': 0,\n",
    "        'to-date': '2019-01-31',\n",
    "        'show-fields': 'all',\n",
    "        'page':1,\n",
    "        'page-size': 50,\n",
    "        'api-key': g_api_key}\n",
    "\n",
    "for year in range(2015,2020):\n",
    "    print(\"Year\",year,end='')\n",
    "    params['from-date'] = str(year)+'-01-01'\n",
    "    params['to-date'] = str(year)+'-12-31'\n",
    "    params['page'] = 1\n",
    "    # Extra call necessary to get number of pages \n",
    "    response = requests.get(url, params)\n",
    "    if response.status_code !=200:\n",
    "        print(\"API Error!\\n\")\n",
    "        break\n",
    "    pages = response.json()['response']['pages']\n",
    "    current_page = 1\n",
    "    while current_page <= 10:\n",
    "        print(\".\",end='')\n",
    "        response = requests.get(url, params)\n",
    "        if response.status_code !=200:\n",
    "            print(\"API Error!\\n\")\n",
    "            break\n",
    "        articles = response.json()['response']['results']\n",
    "        for a in articles:\n",
    "            if a['type'] not in article_types:\n",
    "                article_types.append(a['type'])\n",
    "        current_page+=1\n",
    "        time.sleep(5) # Adding time delay to not hit API calls per minute limit\n",
    "    print('')\n",
    "article_types"
   ]
  },
  {
   "cell_type": "code",
   "execution_count": 19,
   "metadata": {},
   "outputs": [
    {
     "data": {
      "text/plain": [
       "{'id': 'entertainment-one-on-the-basis-of-sex/2019/feb/01/the-supreme-timing-of-ruth-bader-ginsburgs-biopic-on-the-basis-of-sex',\n",
       " 'type': 'article',\n",
       " 'sectionId': 'entertainment-one-on-the-basis-of-sex',\n",
       " 'sectionName': 'Entertainment One: On the Basis of Sex',\n",
       " 'webPublicationDate': '2019-01-31T22:23:15Z',\n",
       " 'webTitle': 'The supreme timing of Ruth Bader Ginsburg’s biopic ‘On the Basis of Sex’',\n",
       " 'webUrl': 'https://www.theguardian.com/entertainment-one-on-the-basis-of-sex/2019/feb/01/the-supreme-timing-of-ruth-bader-ginsburgs-biopic-on-the-basis-of-sex',\n",
       " 'apiUrl': 'https://content.guardianapis.com/entertainment-one-on-the-basis-of-sex/2019/feb/01/the-supreme-timing-of-ruth-bader-ginsburgs-biopic-on-the-basis-of-sex',\n",
       " 'fields': {'headline': 'The supreme timing of Ruth Bader Ginsburg’s biopic ‘On the Basis of Sex’',\n",
       "  'standfirst': '<p> How this distinguished justice and feminist icon helped dismantle sexism – and why we still need her today. </p>',\n",
       "  'trailText': ' How this distinguished justice and feminist icon helped dismantle sexism – and why we still need her today. ',\n",
       "  'byline': '',\n",
       "  'main': '<figure class=\"element element-image\" data-media-id=\"bb4973c746b3a77397ef0a050095dd332a73ebb5\"> <img src=\"https://media.guim.co.uk/bb4973c746b3a77397ef0a050095dd332a73ebb5/0_155_3600_2159/1000.jpg\" alt=\"Felicity Jones stars as gender equality and women’s right trailblazer Ruth Bader Ginsburg in Mimi Leder’s On the Basis of Sex.\" width=\"1000\" height=\"600\" class=\"gu-image\" /> <figcaption> <span class=\"element-image__caption\">Felicity Jones stars as gender equality and women’s right trailblazer Ruth Bader Ginsburg in Mimi Leder’s On the Basis of Sex.</span> <span class=\"element-image__credit\">Photograph: Jonathan Wenk/Focus Features</span> </figcaption> </figure>',\n",
       "  'body': '<p>Ruth Bader Ginsburg – the 85-year-old US supreme court justice – always did have exquisite timing. Working as a young law professor in the 1970s, when the paramount destiny of a female was to fulfil the benign, kitchen-located offices of wife and mother, Ginsburg picked her moments to bring gender-based discrimination cases before a phalanx of black-cloaked males on the bench. On the Basis of Sex – a new biopic about her extraordinary life in a litigious New York City – is, in the same way, a timely and vital reminder to the post-Harvey Weinstein viewer of the importance of the dissenting voice, whether it be articulated in Congress, in film or in life.</p> <p>Directed by Mimi Leder, from a screenplay by Ginsburg’s nephew Daniel Stiepleman, the film is set in 1956 and opens with a swarm of men in dark blazers jovially buzzing about the ornate, prestigious archways of Harvard University’s Cambridge campus – to the tune of Ten Thousand Men of Harvard. Among them is a bright-eyed Ginsburg (played by Academy Award nominee Felicity Jones), one of only nine women in a class of 500 students. It was just the sixth year that Harvard had allowed women to study law.</p> <p>At an orientation dinner party, the dean of the school, Erwin Griswold (Sam Waterston), asks each woman why she is occupying a man’s place at Harvard. It’s a compelling scene, and almost unfathomable this was not so long ago considered standard fare.</p> <p>“My husband is in his second year,” Ginsburg replies sarcastically. “I’m at Harvard so I can learn to be a more patient and understanding wife.”</p>  <figure class=\"element element-image\" data-media-id=\"d717e3a08cfbc16dfcebf3d43a5175d8fdda7d0b\"> <img src=\"https://media.guim.co.uk/d717e3a08cfbc16dfcebf3d43a5175d8fdda7d0b/0_0_3600_2400/1000.jpg\" alt=\"In 1956, Ginsburg was only one of nine women in her class of about 500 students at Harvard Law School.\" width=\"1000\" height=\"667\" class=\"gu-image\" /> <figcaption> <span class=\"element-image__caption\">In 1956, Ginsburg was only one of nine women in her class of about 500 students at Harvard Law School.</span> <span class=\"element-image__credit\">Photograph: Jonathan Wenk/Entertainment One</span> </figcaption> </figure>  <p>While it was possible for a woman to study law, it was frowned upon for her to admit any working ambition. US law at the time stated women would not be granted overtime, credits cards had to be issued in a husband’s name, and employers could legally fire a woman for being pregnant.</p> <p>In our cinema seats, we’re made to think about the injustices that restricted the liberties of generations of women past. As marches and movements like #MeToo continue to protest in the Hollywood spotlight, we’re spurred on by Ginsburg’s tenacity. What would our lives look like had it not been for women like her working to change the constitution to allow us to stride into boardrooms instead of tottering around the coffee machine?</p> <aside class=\"element element-rich-link element--thumbnail\"> <p> <span>Related: </span><a href=\"https://www.theguardian.com/film/2018/dec/13/ruth-bader-ginsburgs-late-life-celebrity-she-changed-the-lives-of-american-women\">Ruth Bader Ginsburg\\'s late-life celebrity: ‘She changed the lives of American women’</a> </p> </aside>  <p>Ginsburg was born in Brooklyn in 1933 to a first-generation Jewish immigrant father and a beloved mother who passed away from cancer the day before Ginsburg graduated from high school. Studying at Cornell University, she met and fell in love with Martin Ginsburg (Armie Hammer). He would go on to be her biggest champion (and surely one of those “phenomenal men” that Oprah referenced in her 2018 Golden Globes speech).</p> <p>They married in 1954 and had a daughter, Jane, the following year. In 1957, while studying at Harvard, Martin was diagnosed with testicular cancer, and while he underwent treatment, Ginsburg attended both her own and her husband’s classes while looking after their baby, operating on just two hours of sleep a night.</p> <p>Despite graduating at the top of her class, Ginsburg couldn’t land a job because women were considered too emotional to be lawyers. At one firm, Ginsburg was told the lawyers’ wives “might get jealous” should the company hire her. She instead accepted a role as a professor at Rutgers Law School. When she fell pregnant with her son, she refrained from telling the university for fear of losing her job.</p> <p>In 1969 Ginsburg led the American Civil Liberties Union (ACLU) Women’s Rights Project, and took a series of cases to the supreme court, arguing not only that gender discrimination existed, but that it was unconstitutional. She was smart in her approach: sex roles weren’t only affecting women, and Ginsburg approached the all-male justices with cases involving male plaintiffs. On the Basis of Sex explores the breakthrough case of Charles Moritz, a Colorado man denied the caregiver’s tax benefit while looking after his ill mother because the law assumed a caregiver must be a woman. It was sex-based discrimination against a man. And while Ginsburg was warned “morality does not win the day” (by Justin Theroux’s character, Mel Wulf of the ACLU), she did win.</p>  <figure class=\"element element-image\" data-media-id=\"7b0eca04fc854c4e1c3b78e1485ec9119c12a3a6\"> <img src=\"https://media.guim.co.uk/7b0eca04fc854c4e1c3b78e1485ec9119c12a3a6/0_0_3600_2400/1000.jpg\" alt=\"During their studies, Ginsburg’s husband was diagnosed with testicular cancer. She took the extraordinary step of attending both her and her husband’s classes while looking after their child Jane, surviving on two hours sleep a night.\" width=\"1000\" height=\"667\" class=\"gu-image\" /> <figcaption> <span class=\"element-image__caption\">During their studies, Ginsburg’s husband was diagnosed with testicular cancer. She took the extraordinary step of attending both her and her husband’s classes while looking after their child Jane, surviving on two hours sleep a night.</span> <span class=\"element-image__credit\">Photograph: Jonathan Wenk/Entertainment One</span> </figcaption> </figure>  <p>Ginsburg went on to argue several of the most important women’s rights cases in American history. Whether it was concerning pay parity, widow benefits or the punishment aligned with underage sex, she sought to level the law between men and women. In 1974 the supreme court absurdly stated that discrimination against pregnant women was not a form of sex discrimination because women could choose whether to become pregnant. Ginsburg worked tirelessly to draft the Pregnancy Discrimination Act, a bill that overturned the previous ruling in 1978.</p> <aside class=\"element element-rich-link element--thumbnail\"> <p> <span>Related: </span><a href=\"https://www.theguardian.com/us-news/2018/dec/15/ruth-bader-ginsburg-film-supreme-court\">Ruth Bader Ginsburg: the soft-spoken justice turned pop culture icon</a> </p> </aside>  <p>On being appointed to the supreme court by then president Bill Clinton in 1993, Ginsburg paid tribute to her mother. “I pray that I may be all that she would have been had she lived in an age when women could aspire and achieve, and daughters are cherished as much as sons,” she said.</p> <p>This sentiment is explored in a poignant scene in which Ginsburg takes her fiery teenage daughter, Jane (Cailee Spaeny), to meet the famous New York attorney Dorothy Kenyon (Kathy Bates). While Kenyon advises Ginsburg she should be taking to the streets in protest like Jane, Ginsburg interrupts: “Protests are important but changing the culture means nothing if the law doesn’t change.”</p> <p>Afterwards, while hailing a taxi in the rain, Jane berates a couple of catcallers on a nearby construction site. Her mother is both stunned and proud. It’s a watershed moment as we see the different ways in which different generations of women were fighting for justice in the 1970s; one genteel in her efforts for systematic change, and the other taking to the streets.</p> <p>In 2017 millions of women gathered in 600 American cities and on every continent in the world to rally for their reproductive, immigration and civil rights. It was the largest single-day protest in history, and served as a catalyst for political change, as an unprecedented number of women of various races and ages entered Congress in 2018. One standout was (dancing) New York politician Alexandria Ocasio-Cortez, who recently called out Donald Trump for being anti-American in his attitudes towards immigrants.</p>  <figure class=\"element element-image\" data-media-id=\"bc3dae4773aaf9671c3251f31843166284ff84db\"> <img src=\"https://media.guim.co.uk/bc3dae4773aaf9671c3251f31843166284ff84db/0_0_3600_2400/1000.jpg\" alt=\"Ginsburg hopes that the #MeToo movement is not only “here to stay, but that it is as effective for the woman who works as a maid in a hotel”.\" width=\"1000\" height=\"667\" class=\"gu-image\" /> <figcaption> <span class=\"element-image__caption\">Ginsburg hopes that the #MeToo movement is not only “here to stay, but that it is as effective for the woman who works as a maid in a hotel”.</span> <span class=\"element-image__credit\">Photograph: Jonathan Wenk/Entertainment One</span> </figcaption> </figure>  <p>Glenn Close perhaps best reflected the notion of the importance of the dissenting voice in her Golden Globes acceptance speech in January. The 71-year-old won the best actress award for her role in The Wife.</p> <p>“[Mum] really sublimated herself to my father her whole life,” she began. “In her 80s, she said to me, ‘I feel I haven’t accomplished anything’. And it was so not right. Women, we’re nurturers, that’s what expected of us … but we have to find personal fulfilment. We have to follow our dreams. We have to say, I can do that. And I should be allowed to do that.”</p> <p>Close’s timing was bang on. The room roared with cheers.</p> <p>Ginsburg has also weighed in on the #MeToo movement, a powerful campaign born in the wake of the Weinstein scandal in October 2017, and protesting against sexual misconduct in the workplace.</p> <p>“Every woman of my vintage has not just one story but many stories, but we thought there was nothing you could do about it – boys will be boys – so just find a way to get out of it,” Ginsburg recently told law students at Georgetown University.</p> <p>“Women were hesitant. I think one of the principal reasons for it was because they feared that they would not be believed. The number of women who have come forward as a result of the #MeToo movement has been astonishing. My hope is not just that it is here to stay, but that it is as effective for the woman who works as a maid in a hotel as it is for Hollywood stars.”</p> <p>And so we keep marching on.</p> <p><em><strong><a href=\"http://onthebasisofsexfilm.com.au/\" rel=\"nofollow\">On The Basis Of Sex is in Australian cinemas on February 7.</a></strong></em></p>       <figure class=\"element element-video\" data-canonical-url=\"http://www.youtube.com/watch?v=jtzesNEmVhs\"                                                                        > <iframe height=\"259\" width=\"460\" src=\"https://www.youtube-nocookie.com/embed/jtzesNEmVhs?wmode=opaque&amp;feature=oembed\" frameborder=\"0\" allowfullscreen></iframe> </figure>',\n",
       "  'wordcount': '1354',\n",
       "  'firstPublicationDate': '2019-01-31T22:23:15Z',\n",
       "  'isInappropriateForSponsorship': 'false',\n",
       "  'isPremoderated': 'false',\n",
       "  'lastModified': '2019-02-07T22:09:31Z',\n",
       "  'productionOffice': 'AUS',\n",
       "  'publication': 'theguardian.com',\n",
       "  'shortUrl': 'https://gu.com/p/af7bg',\n",
       "  'shouldHideAdverts': 'false',\n",
       "  'showInRelatedContent': 'true',\n",
       "  'thumbnail': 'https://media.guim.co.uk/bb4973c746b3a77397ef0a050095dd332a73ebb5/0_155_3600_2159/500.jpg',\n",
       "  'legallySensitive': 'false',\n",
       "  'lang': 'en',\n",
       "  'bodyText': 'Ruth Bader Ginsburg – the 85-year-old US supreme court justice – always did have exquisite timing. Working as a young law professor in the 1970s, when the paramount destiny of a female was to fulfil the benign, kitchen-located offices of wife and mother, Ginsburg picked her moments to bring gender-based discrimination cases before a phalanx of black-cloaked males on the bench. On the Basis of Sex – a new biopic about her extraordinary life in a litigious New York City – is, in the same way, a timely and vital reminder to the post-Harvey Weinstein viewer of the importance of the dissenting voice, whether it be articulated in Congress, in film or in life. Directed by Mimi Leder, from a screenplay by Ginsburg’s nephew Daniel Stiepleman, the film is set in 1956 and opens with a swarm of men in dark blazers jovially buzzing about the ornate, prestigious archways of Harvard University’s Cambridge campus – to the tune of Ten Thousand Men of Harvard. Among them is a bright-eyed Ginsburg (played by Academy Award nominee Felicity Jones), one of only nine women in a class of 500 students. It was just the sixth year that Harvard had allowed women to study law. At an orientation dinner party, the dean of the school, Erwin Griswold (Sam Waterston), asks each woman why she is occupying a man’s place at Harvard. It’s a compelling scene, and almost unfathomable this was not so long ago considered standard fare. “My husband is in his second year,” Ginsburg replies sarcastically. “I’m at Harvard so I can learn to be a more patient and understanding wife.” While it was possible for a woman to study law, it was frowned upon for her to admit any working ambition. US law at the time stated women would not be granted overtime, credits cards had to be issued in a husband’s name, and employers could legally fire a woman for being pregnant. In our cinema seats, we’re made to think about the injustices that restricted the liberties of generations of women past. As marches and movements like #MeToo continue to protest in the Hollywood spotlight, we’re spurred on by Ginsburg’s tenacity. What would our lives look like had it not been for women like her working to change the constitution to allow us to stride into boardrooms instead of tottering around the coffee machine? Ginsburg was born in Brooklyn in 1933 to a first-generation Jewish immigrant father and a beloved mother who passed away from cancer the day before Ginsburg graduated from high school. Studying at Cornell University, she met and fell in love with Martin Ginsburg (Armie Hammer). He would go on to be her biggest champion (and surely one of those “phenomenal men” that Oprah referenced in her 2018 Golden Globes speech). They married in 1954 and had a daughter, Jane, the following year. In 1957, while studying at Harvard, Martin was diagnosed with testicular cancer, and while he underwent treatment, Ginsburg attended both her own and her husband’s classes while looking after their baby, operating on just two hours of sleep a night. Despite graduating at the top of her class, Ginsburg couldn’t land a job because women were considered too emotional to be lawyers. At one firm, Ginsburg was told the lawyers’ wives “might get jealous” should the company hire her. She instead accepted a role as a professor at Rutgers Law School. When she fell pregnant with her son, she refrained from telling the university for fear of losing her job. In 1969 Ginsburg led the American Civil Liberties Union (ACLU) Women’s Rights Project, and took a series of cases to the supreme court, arguing not only that gender discrimination existed, but that it was unconstitutional. She was smart in her approach: sex roles weren’t only affecting women, and Ginsburg approached the all-male justices with cases involving male plaintiffs. On the Basis of Sex explores the breakthrough case of Charles Moritz, a Colorado man denied the caregiver’s tax benefit while looking after his ill mother because the law assumed a caregiver must be a woman. It was sex-based discrimination against a man. And while Ginsburg was warned “morality does not win the day” (by Justin Theroux’s character, Mel Wulf of the ACLU), she did win. Ginsburg went on to argue several of the most important women’s rights cases in American history. Whether it was concerning pay parity, widow benefits or the punishment aligned with underage sex, she sought to level the law between men and women. In 1974 the supreme court absurdly stated that discrimination against pregnant women was not a form of sex discrimination because women could choose whether to become pregnant. Ginsburg worked tirelessly to draft the Pregnancy Discrimination Act, a bill that overturned the previous ruling in 1978. On being appointed to the supreme court by then president Bill Clinton in 1993, Ginsburg paid tribute to her mother. “I pray that I may be all that she would have been had she lived in an age when women could aspire and achieve, and daughters are cherished as much as sons,” she said. This sentiment is explored in a poignant scene in which Ginsburg takes her fiery teenage daughter, Jane (Cailee Spaeny), to meet the famous New York attorney Dorothy Kenyon (Kathy Bates). While Kenyon advises Ginsburg she should be taking to the streets in protest like Jane, Ginsburg interrupts: “Protests are important but changing the culture means nothing if the law doesn’t change.” Afterwards, while hailing a taxi in the rain, Jane berates a couple of catcallers on a nearby construction site. Her mother is both stunned and proud. It’s a watershed moment as we see the different ways in which different generations of women were fighting for justice in the 1970s; one genteel in her efforts for systematic change, and the other taking to the streets. In 2017 millions of women gathered in 600 American cities and on every continent in the world to rally for their reproductive, immigration and civil rights. It was the largest single-day protest in history, and served as a catalyst for political change, as an unprecedented number of women of various races and ages entered Congress in 2018. One standout was (dancing) New York politician Alexandria Ocasio-Cortez, who recently called out Donald Trump for being anti-American in his attitudes towards immigrants. Glenn Close perhaps best reflected the notion of the importance of the dissenting voice in her Golden Globes acceptance speech in January. The 71-year-old won the best actress award for her role in The Wife. “[Mum] really sublimated herself to my father her whole life,” she began. “In her 80s, she said to me, ‘I feel I haven’t accomplished anything’. And it was so not right. Women, we’re nurturers, that’s what expected of us … but we have to find personal fulfilment. We have to follow our dreams. We have to say, I can do that. And I should be allowed to do that.” Close’s timing was bang on. The room roared with cheers. Ginsburg has also weighed in on the #MeToo movement, a powerful campaign born in the wake of the Weinstein scandal in October 2017, and protesting against sexual misconduct in the workplace. “Every woman of my vintage has not just one story but many stories, but we thought there was nothing you could do about it – boys will be boys – so just find a way to get out of it,” Ginsburg recently told law students at Georgetown University. “Women were hesitant. I think one of the principal reasons for it was because they feared that they would not be believed. The number of women who have come forward as a result of the #MeToo movement has been astonishing. My hope is not just that it is here to stay, but that it is as effective for the woman who works as a maid in a hotel as it is for Hollywood stars.” And so we keep marching on. On The Basis Of Sex is in Australian cinemas on February 7.',\n",
       "  'charCount': '7809',\n",
       "  'shouldHideReaderRevenue': 'false',\n",
       "  'showAffiliateLinks': 'false',\n",
       "  'bylineHtml': ''},\n",
       " 'isHosted': False}"
      ]
     },
     "execution_count": 19,
     "metadata": {},
     "output_type": "execute_result"
    }
   ],
   "source": [
    "articles = response.json()['response']['results']\n",
    "articles[9]"
   ]
  },
  {
   "cell_type": "code",
   "execution_count": null,
   "metadata": {},
   "outputs": [],
   "source": []
  }
 ],
 "metadata": {
  "kernelspec": {
   "display_name": "Python 3",
   "language": "python",
   "name": "python3"
  },
  "language_info": {
   "codemirror_mode": {
    "name": "ipython",
    "version": 3
   },
   "file_extension": ".py",
   "mimetype": "text/x-python",
   "name": "python",
   "nbconvert_exporter": "python",
   "pygments_lexer": "ipython3",
   "version": "3.7.3"
  }
 },
 "nbformat": 4,
 "nbformat_minor": 2
}
