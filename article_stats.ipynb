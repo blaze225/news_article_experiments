{
 "cells": [
  {
   "cell_type": "code",
   "execution_count": 5,
   "metadata": {},
   "outputs": [],
   "source": [
    "import requests\n",
    "import time"
   ]
  },
  {
   "cell_type": "markdown",
   "metadata": {},
   "source": [
    "# NY Times"
   ]
  },
  {
   "cell_type": "code",
   "execution_count": 2,
   "metadata": {},
   "outputs": [],
   "source": [
    "# NY TIMES API \n",
    "api_key = 'gkHhhsov9LrY3D0rs7UybUHaytbIAmve'"
   ]
  },
  {
   "cell_type": "code",
   "execution_count": 14,
   "metadata": {},
   "outputs": [
    {
     "name": "stdout",
     "output_type": "stream",
     "text": [
      "% Relevant articles in year 2015:  48.69779268008549\n",
      "% Relevant articles in year 2016:  61.450386691001725\n",
      "% Relevant articles in year 2017:  75.94328584210889\n",
      "% Relevant articles in year 2018:  78.06178853886992\n",
      "% Relevant articles in year 2019:  78.76930316652425\n"
     ]
    }
   ],
   "source": [
    "# Getting all articles for last 5 years\n",
    "all_articles = []\n",
    "article_filter = ['News', 'Op-Ed', 'News Analysis', 'Editorial']\n",
    "\n",
    "for year in range(2015,2020):\n",
    "    count_total = 0\n",
    "    count_relevant = 0\n",
    "    for month in range(1,13):\n",
    "        time.sleep(10) # Adding time delay to not hit API calls per minute limit\n",
    "        url = 'https://api.nytimes.com/svc/archive/v1/'+str(year)+'/'+str(month)+'.json?&api-key='+api_key\n",
    "        response = requests.get(url)\n",
    "        if response.status_code !=200:\n",
    "            print(\"API Error!\\n\")\n",
    "            break\n",
    "        articles = response.json()['response']['docs']\n",
    "        # Filtering articles which have 'type_of_material' key\n",
    "        articles = [a for a in articles if 'type_of_material' in a]\n",
    "        relevant_articles = [a for a in articles if a['type_of_material'] in article_filter]\n",
    "        count_total+=len(articles)\n",
    "        count_relevant+=len(relevant_articles)\n",
    "    print(\"% Relevant articles in year \"+str(year)+\": \", (count_relevant/count_total)*100)"
   ]
  },
  {
   "cell_type": "code",
   "execution_count": null,
   "metadata": {},
   "outputs": [],
   "source": []
  }
 ],
 "metadata": {
  "kernelspec": {
   "display_name": "Python 3",
   "language": "python",
   "name": "python3"
  },
  "language_info": {
   "codemirror_mode": {
    "name": "ipython",
    "version": 3
   },
   "file_extension": ".py",
   "mimetype": "text/x-python",
   "name": "python",
   "nbconvert_exporter": "python",
   "pygments_lexer": "ipython3",
   "version": "3.7.3"
  }
 },
 "nbformat": 4,
 "nbformat_minor": 2
}
