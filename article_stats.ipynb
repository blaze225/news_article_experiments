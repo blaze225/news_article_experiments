{
  "nbformat": 4,
  "nbformat_minor": 0,
  "metadata": {
    "kernelspec": {
      "display_name": "Python 3",
      "language": "python",
      "name": "python3"
    },
    "language_info": {
      "codemirror_mode": {
        "name": "ipython",
        "version": 3
      },
      "file_extension": ".py",
      "mimetype": "text/x-python",
      "name": "python",
      "nbconvert_exporter": "python",
      "pygments_lexer": "ipython3",
      "version": "3.7.3"
    },
    "colab": {
      "name": "article_stats.ipynb",
      "provenance": []
    }
  },
  "cells": [
    {
      "cell_type": "code",
      "metadata": {
        "id": "-rnygQxqlFS_",
        "colab_type": "code",
        "colab": {}
      },
      "source": [
        "import requests\n",
        "import time\n",
        "import matplotlib.pyplot as plt"
      ],
      "execution_count": 1,
      "outputs": []
    },
    {
      "cell_type": "markdown",
      "metadata": {
        "id": "eoPaKHAjlFTy",
        "colab_type": "text"
      },
      "source": [
        "# NY Times"
      ]
    },
    {
      "cell_type": "code",
      "metadata": {
        "id": "ZyCTQfCmlFTy",
        "colab_type": "code",
        "colab": {}
      },
      "source": [
        "# NY TIMES API \n",
        "ny_api_key = 'gkHhhsov9LrY3D0rs7UybUHaytbIAmve'"
      ],
      "execution_count": 2,
      "outputs": []
    },
    {
      "cell_type": "markdown",
      "metadata": {
        "id": "4iuUBcajTysR",
        "colab_type": "text"
      },
      "source": [
        "## Get relevant article type distribution"
      ]
    },
    {
      "cell_type": "code",
      "metadata": {
        "id": "LX8g3d11lFT9",
        "colab_type": "code",
        "colab": {
          "base_uri": "https://localhost:8080/",
          "height": 136
        },
        "outputId": "1579b82c-f9f6-4fe2-9ebe-98fe3cd533ed"
      },
      "source": [
        "# Getting all relevant articles for last 5 years\n",
        "all_articles = []\n",
        "stats_dict = {}\n",
        "article_filter = ['News', 'Op-Ed', 'News Analysis', 'Editorial']\n",
        "year_totals = []\n",
        "\n",
        "for year in range(2016,2021):\n",
        "    print(\"Year:\",year,end='')\n",
        "    count_total = 0\n",
        "    count_relevant = 0\n",
        "    # Initializing the stats_dict structure\n",
        "    stats_dict[year] = {}\n",
        "    for type_ in article_filter:\n",
        "        stats_dict[year][type_]= 0\n",
        "\n",
        "    for month in range(1,13):\n",
        "        print(\".\",end='')\n",
        "        time.sleep(6) # Adding time delay to not hit API calls per minute limit\n",
        "        url = 'https://api.nytimes.com/svc/archive/v1/'+str(year)+'/'+str(month)+'.json?&api-key='+ny_api_key\n",
        "        response = requests.get(url)\n",
        "        if response.status_code !=200:\n",
        "            print(\"API Error!\\n\")\n",
        "            break\n",
        "        articles = response.json()['response']['docs']\n",
        "        # Filtering articles which have 'type_of_material' key\n",
        "        articles = [a for a in articles if 'type_of_material' in a]\n",
        "        relevant_articles = [a for a in articles if a['type_of_material'] in article_filter]\n",
        "        count_total+=len(articles)\n",
        "        count_relevant+=len(relevant_articles)\n",
        "        # Populating stats for each article category per year\n",
        "        for type_ in article_filter:\n",
        "            stats_dict[year][type_] += len([a for a in relevant_articles if a['type_of_material']==type_])\n",
        "\n",
        "    year_totals.append(count_relevant)        \n",
        "    print(\"% Relevant articles in year \"+str(year)+\": \", (count_relevant/count_total)*100)"
      ],
      "execution_count": 4,
      "outputs": [
        {
          "output_type": "stream",
          "text": [
            "Year: 2016............% Relevant articles in year 2016:  73.80877668425808\n",
            "Year: 2017............% Relevant articles in year 2017:  75.53819712227046\n",
            "Year: 2018............% Relevant articles in year 2018:  78.04076578721782\n",
            "Year: 2019............% Relevant articles in year 2019:  79.77267368995768\n",
            "Year: 2020..........API Error!\n",
            "\n",
            "% Relevant articles in year 2020:  80.06871035940803\n"
          ],
          "name": "stdout"
        }
      ]
    },
    {
      "cell_type": "code",
      "metadata": {
        "id": "9GxGRXzplFUH",
        "colab_type": "code",
        "colab": {
          "base_uri": "https://localhost:8080/",
          "height": 102
        },
        "outputId": "f12d9027-6976-4633-d938-89a8dae1338f"
      },
      "source": [
        "stats_dict"
      ],
      "execution_count": 5,
      "outputs": [
        {
          "output_type": "execute_result",
          "data": {
            "text/plain": [
              "{2016: {'Editorial': 1852, 'News': 70666, 'News Analysis': 250, 'Op-Ed': 4853},\n",
              " 2017: {'Editorial': 1527, 'News': 61034, 'News Analysis': 275, 'Op-Ed': 5727},\n",
              " 2018: {'Editorial': 936, 'News': 57748, 'News Analysis': 308, 'Op-Ed': 6556},\n",
              " 2019: {'Editorial': 820, 'News': 56901, 'News Analysis': 344, 'Op-Ed': 6223},\n",
              " 2020: {'Editorial': 331, 'News': 40427, 'News Analysis': 137, 'Op-Ed': 4552}}"
            ]
          },
          "metadata": {
            "tags": []
          },
          "execution_count": 5
        }
      ]
    },
    {
      "cell_type": "code",
      "metadata": {
        "id": "jSSInn8ylFUM",
        "colab_type": "code",
        "colab": {
          "base_uri": "https://localhost:8080/",
          "height": 102
        },
        "outputId": "b6019c71-90fb-4ea1-8e63-dfca413e2e23"
      },
      "source": [
        "for year in stats_dict:\n",
        "    count = 0\n",
        "    for types in stats_dict[year].keys():\n",
        "        count+=stats_dict[year][types]\n",
        "    print(\"% News type articles in year \"+str(year)+':',(stats_dict[year]['News']/count)*100)"
      ],
      "execution_count": 6,
      "outputs": [
        {
          "output_type": "stream",
          "text": [
            "% News type articles in year 2016: 91.03979593151338\n",
            "% News type articles in year 2017: 89.01885856803233\n",
            "% News type articles in year 2018: 88.10032342710686\n",
            "% News type articles in year 2019: 88.50951966152316\n",
            "% News type articles in year 2020: 88.95416639162102\n"
          ],
          "name": "stdout"
        }
      ]
    },
    {
      "cell_type": "markdown",
      "metadata": {
        "id": "Wwyk1dg9cYKH",
        "colab_type": "text"
      },
      "source": [
        "Majority of the articles are of type 'News'"
      ]
    },
    {
      "cell_type": "code",
      "metadata": {
        "id": "BZcPKre9lFUR",
        "colab_type": "code",
        "colab": {
          "base_uri": "https://localhost:8080/",
          "height": 265
        },
        "outputId": "ad5217a4-9921-41fd-ae04-6dd76f066e53"
      },
      "source": [
        "# Yearwise relevant articles(blue) and type 'News' articles(orange)\n",
        "type_news = [stats_dict[year]['News'] for year in stats_dict]\n",
        "plt.bar(list(stats_dict.keys()), year_totals)\n",
        "plt.bar(list(stats_dict.keys()), type_news)\n",
        "plt.show()"
      ],
      "execution_count": 7,
      "outputs": [
        {
          "output_type": "display_data",
          "data": {
            "image/png": "[encoded data removed]",
            "text/plain": [
              "<Figure size 432x288 with 1 Axes>"
            ]
          },
          "metadata": {
            "tags": [],
            "needs_background": "light"
          }
        }
      ]
    },
    {
      "cell_type": "code",
      "metadata": {
        "id": "VlPPzEyWlFUW",
        "colab_type": "code",
        "colab": {
          "base_uri": "https://localhost:8080/",
          "height": 329
        },
        "outputId": "ee730a7c-a592-4a12-e596-507338734e36"
      },
      "source": [
        "# Plotting stats_dict yearwise\n",
        "fig,ax = plt.subplots(1,5,figsize=(24,7))\n",
        "for i,year in enumerate(stats_dict.keys()):\n",
        "    lists = sorted(stats_dict[year].items()) # sorted by key, return a list of tuples\n",
        "    x, y = zip(*lists) # unpack a list of pairs into two tuples\n",
        "    ax[i].bar(x, y)\n",
        "    ax[i].set_title(str(year))\n",
        "plt.show()"
      ],
      "execution_count": 8,
      "outputs": [
        {
          "output_type": "display_data",
          "data": {
            "image/png": "[encoded data removed]",
            "text/plain": [
              "<Figure size 1728x504 with 5 Axes>"
            ]
          },
          "metadata": {
            "tags": [],
            "needs_background": "light"
          }
        }
      ]
    },
    {
      "cell_type": "markdown",
      "metadata": {
        "id": "n1zaCiEET-Ii",
        "colab_type": "text"
      },
      "source": [
        "## Get **Section** distribution in the articles of type **News**"
      ]
    },
    {
      "cell_type": "code",
      "metadata": {
        "id": "fPBVrBakUNI1",
        "colab_type": "code",
        "colab": {
          "base_uri": "https://localhost:8080/",
          "height": 221
        },
        "outputId": "1104bf78-4bf7-42fd-d61f-6356c4f3f76e"
      },
      "source": [
        "section_dict = {}\n",
        "\n",
        "for year in range(2016,2021):\n",
        "    print(\"Year:\",year,end='')\n",
        "    # Initializing the section_dict structure\n",
        "    section_dict[year] = {}\n",
        "\n",
        "    for month in range(1,13):\n",
        "        print(\".\",end='')\n",
        "        time.sleep(6) # Adding time delay to not hit API calls per minute limit\n",
        "        url = 'https://api.nytimes.com/svc/archive/v1/'+str(year)+'/'+str(month)+'.json?&api-key='+ny_api_key\n",
        "        response = requests.get(url)\n",
        "        if response.status_code !=200:\n",
        "            print(\"API Error!\\n\")\n",
        "            break\n",
        "        articles = response.json()['response']['docs']\n",
        "        # Filtering articles which have 'type_of_material' key as 'News'\n",
        "        articles = [a for a in articles if 'type_of_material' in a]\n",
        "        relevant_articles = [a for a in articles if a['type_of_material'] == 'News']\n",
        "        # Check section and update section_dict\n",
        "        for a in relevant_articles:\n",
        "            try:\n",
        "                if a['section_name'] not in section_dict[year]:\n",
        "                    section_dict[year][a['section_name']] = 0\n",
        "                section_dict[year][a['section_name']]+=1\n",
        "            except:\n",
        "                pass\n",
        "    print('\\n')"
      ],
      "execution_count": 9,
      "outputs": [
        {
          "output_type": "stream",
          "text": [
            "Year: 2016............\n",
            "\n",
            "Year: 2017............\n",
            "\n",
            "Year: 2018............\n",
            "\n",
            "Year: 2019............\n",
            "\n",
            "Year: 2020..........API Error!\n",
            "\n",
            "\n",
            "\n"
          ],
          "name": "stdout"
        }
      ]
    },
    {
      "cell_type": "code",
      "metadata": {
        "id": "hojV1IIqWGg0",
        "colab_type": "code",
        "colab": {
          "base_uri": "https://localhost:8080/",
          "height": 102
        },
        "outputId": "c5562e05-edef-4d16-9b96-536f62340096"
      },
      "source": [
        "for year in section_dict:\n",
        "    sorted_d = {k: v for k, v in sorted(section_dict[year].items(), key=lambda item: item[1], reverse=True)}\n",
        "    print(year, list(sorted_d.items())[:5])"
      ],
      "execution_count": 10,
      "outputs": [
        {
          "output_type": "stream",
          "text": [
            "2016 [('U.S.', 10361), ('World', 9558), ('Business Day', 6962), ('Sports', 6848), ('Arts', 5069)]\n",
            "2017 [('World', 8399), ('U.S.', 8266), ('Business Day', 6105), ('Sports', 5214), ('Arts', 5140)]\n",
            "2018 [('U.S.', 4987), ('World', 4727), ('Business Day', 3163), ('Sports', 2920), ('Arts', 2905)]\n",
            "2019 [('U.S.', 10781), ('World', 7677), ('Arts', 5349), ('Business Day', 4665), ('Sports', 4256)]\n",
            "2020 [('U.S.', 8843), ('World', 4638), ('Business Day', 3813), ('Arts', 3416), ('Sports', 2463)]\n"
          ],
          "name": "stdout"
        }
      ]
    },
    {
      "cell_type": "markdown",
      "metadata": {
        "id": "vKKtgZFSlFUQ",
        "colab_type": "text"
      },
      "source": [
        "Every year, majority articles of the **News** is either on sections: **U.S** or **World**"
      ]
    },
    {
      "cell_type": "code",
      "metadata": {
        "id": "jAI7gOrXlFUi",
        "colab_type": "code",
        "colab": {}
      },
      "source": [
        ""
      ],
      "execution_count": null,
      "outputs": []
    },
    {
      "cell_type": "markdown",
      "metadata": {
        "id": "ruSB33dKlFUo",
        "colab_type": "text"
      },
      "source": [
        "# Guardian"
      ]
    },
    {
      "cell_type": "code",
      "metadata": {
        "id": "6ejYTyv4lFUo",
        "colab_type": "code",
        "colab": {}
      },
      "source": [
        "# Guardian API Key\n",
        "g_api_key = 'bcf0c5ca-6041-4073-9247-cdd4242543b7'"
      ],
      "execution_count": 12,
      "outputs": []
    },
    {
      "cell_type": "markdown",
      "metadata": {
        "id": "LhSeiEBb26bO",
        "colab_type": "text"
      },
      "source": [
        "## Get relevant article type distribution"
      ]
    },
    {
      "cell_type": "code",
      "metadata": {
        "id": "Dr33zqyVlFVK",
        "colab_type": "code",
        "colab": {
          "base_uri": "https://localhost:8080/",
          "height": 102
        },
        "outputId": "aac9e0fb-51f8-4df7-c6ed-11e0289a22a6"
      },
      "source": [
        "url = 'http://content.guardianapis.com/search'\n",
        "# Date Format - 2014-02-17\n",
        "params = {'from-date': 0,\n",
        "        'to-date': '2019-01-31',\n",
        "        'show-fields': 'all',\n",
        "        'page':1,\n",
        "        'page-size': 50,\n",
        "        'api-key': g_api_key}\n",
        "\n",
        "# Dict to store article type stats per year\n",
        "stats_dict = {}\n",
        "\n",
        "for year in range(2016,2021):\n",
        "    print(\"Year\",year,end='')\n",
        "    # Dict per year\n",
        "    stats_dict[year] = {}\n",
        "    params['from-date'] = str(year)+'-01-01'\n",
        "    params['to-date'] = str(year)+'-12-31'\n",
        "    params['page'] = 1\n",
        "    # Extra call necessary to get number of pages \n",
        "    response = requests.get(url, params)\n",
        "    if response.status_code !=200:\n",
        "        print(\"API Error!\\n\")\n",
        "        break\n",
        "    pages = response.json()['response']['pages']\n",
        "    current_page = 1\n",
        "    while current_page <= 30:\n",
        "        print(\".\",end='')\n",
        "        # Update page\n",
        "        params['page'] = current_page\n",
        "        # Updated call\n",
        "        response = requests.get(url, params)\n",
        "        if response.status_code !=200:\n",
        "            print(\"API Error!\\n\")\n",
        "            break\n",
        "        articles = response.json()['response']['results']\n",
        "        for a in articles:\n",
        "            if a['type'] not in stats_dict[year]:\n",
        "                stats_dict[year][a['type']] = 0\n",
        "            stats_dict[year][a['type']]+=1 \n",
        "            \n",
        "        current_page+=1\n",
        "        time.sleep(5) # Adding time delay to not hit API calls per minute limit\n",
        "    print('')"
      ],
      "execution_count": 14,
      "outputs": [
        {
          "output_type": "stream",
          "text": [
            "Year 2016..............................\n",
            "Year 2017..............................\n",
            "Year 2018..............................\n",
            "Year 2019..............................\n",
            "Year 2020..............................\n"
          ],
          "name": "stdout"
        }
      ]
    },
    {
      "cell_type": "code",
      "metadata": {
        "id": "jWv_tE2NocTx",
        "colab_type": "code",
        "colab": {
          "base_uri": "https://localhost:8080/",
          "height": 102
        },
        "outputId": "0bf6c5c4-f915-4b22-cdca-a4c475fe9707"
      },
      "source": [
        "stats_dict"
      ],
      "execution_count": 15,
      "outputs": [
        {
          "output_type": "execute_result",
          "data": {
            "text/plain": [
              "{2016: {'article': 1451, 'crossword': 16, 'interactive': 4, 'liveblog': 29},\n",
              " 2017: {'article': 1444, 'crossword': 19, 'interactive': 7, 'liveblog': 30},\n",
              " 2018: {'article': 1433, 'crossword': 22, 'interactive': 7, 'liveblog': 38},\n",
              " 2019: {'article': 1429, 'crossword': 21, 'interactive': 7, 'liveblog': 43},\n",
              " 2020: {'article': 1420, 'crossword': 7, 'interactive': 7, 'liveblog': 66}}"
            ]
          },
          "metadata": {
            "tags": []
          },
          "execution_count": 15
        }
      ]
    },
    {
      "cell_type": "markdown",
      "metadata": {
        "id": "FyeFHrQlu5RD",
        "colab_type": "text"
      },
      "source": [
        "## Get **Section** distribution in the articles of type **article**"
      ]
    },
    {
      "cell_type": "code",
      "metadata": {
        "id": "BCG3C_YblFVY",
        "colab_type": "code",
        "colab": {
          "base_uri": "https://localhost:8080/",
          "height": 102
        },
        "outputId": "ae5ea844-3a40-4b76-ff40-e16d127bf3b2"
      },
      "source": [
        "url = 'http://content.guardianapis.com/search'\n",
        "# Date Format - 2014-02-17\n",
        "params = {'from-date': 0,\n",
        "        'to-date': '2019-01-31',\n",
        "        'show-fields': 'all',\n",
        "        'page':1,\n",
        "        'page-size': 50,\n",
        "        'api-key': g_api_key}\n",
        "\n",
        "# Dict to store article type stats per year\n",
        "section_dict = {}\n",
        "\n",
        "for year in range(2016,2021):\n",
        "    print(\"Year\",year,end='')\n",
        "    # Dict per year\n",
        "    section_dict[year] = {}\n",
        "    params['from-date'] = str(year)+'-01-01'\n",
        "    params['to-date'] = str(year)+'-12-31'\n",
        "    params['page'] = 1\n",
        "    # Extra call necessary to get number of pages \n",
        "    response = requests.get(url, params)\n",
        "    if response.status_code !=200:\n",
        "        print(\"API Error!\\n\")\n",
        "        break\n",
        "    pages = response.json()['response']['pages']\n",
        "    current_page = 1\n",
        "    while current_page <= 30:\n",
        "        print(\".\",end='')\n",
        "        # Update page\n",
        "        params['page'] = current_page\n",
        "        # Updated call\n",
        "        response = requests.get(url, params)\n",
        "        if response.status_code !=200:\n",
        "            print(\"API Error!\\n\")\n",
        "            break\n",
        "        articles = response.json()['response']['results']\n",
        "        relevant_articles = [a for a in articles if a['type'] == 'article']\n",
        "        for a in relevant_articles:\n",
        "            if a['sectionName'] not in section_dict[year]:\n",
        "                section_dict[year][a['sectionName']] = 0\n",
        "            section_dict[year][a['sectionName']]+=1 \n",
        "        current_page+=1\n",
        "        time.sleep(5) # Adding time delay to not hit API calls per minute limit\n",
        "    print('')"
      ],
      "execution_count": 19,
      "outputs": [
        {
          "output_type": "stream",
          "text": [
            "Year 2016..............................\n",
            "Year 2017..............................\n",
            "Year 2018..............................\n",
            "Year 2019..............................\n",
            "Year 2020..............................\n"
          ],
          "name": "stdout"
        }
      ]
    },
    {
      "cell_type": "code",
      "metadata": {
        "id": "9yr02gUkXTYA",
        "colab_type": "code",
        "colab": {
          "base_uri": "https://localhost:8080/",
          "height": 102
        },
        "outputId": "c1ba7faa-0111-4132-99b4-b050b6ef9cc6"
      },
      "source": [
        "for year in section_dict:\n",
        "    sorted_d = {k: v for k, v in sorted(section_dict[year].items(), key=lambda item: item[1], reverse=True)}\n",
        "    print(year, list(sorted_d.items())[:5])"
      ],
      "execution_count": 20,
      "outputs": [
        {
          "output_type": "stream",
          "text": [
            "2016 [('Football', 156), ('World news', 137), ('Opinion', 106), ('Sport', 94), ('Life and style', 70)]\n",
            "2017 [('Football', 147), ('Opinion', 140), ('World news', 128), ('Sport', 108), ('Life and style', 99)]\n",
            "2018 [('Opinion', 150), ('Football', 135), ('World news', 133), ('Sport', 96), ('Life and style', 89)]\n",
            "2019 [('Football', 157), ('Opinion', 130), ('World news', 129), ('Life and style', 95), ('Sport', 87)]\n",
            "2020 [('World news', 199), ('Opinion', 109), ('Football', 106), ('Sport', 101), ('Australia news', 90)]\n"
          ],
          "name": "stdout"
        }
      ]
    },
    {
      "cell_type": "markdown",
      "metadata": {
        "id": "zcjv1rUlt10_",
        "colab_type": "text"
      },
      "source": [
        "Every year, majority articles of the **News** is either on sections: **Football**, **World news** or **Opinion**"
      ]
    },
    {
      "cell_type": "markdown",
      "metadata": {
        "id": "eRg8jCOyvp9u",
        "colab_type": "text"
      },
      "source": [
        "# Considering 1 month of articles (Jan 2020)\n",
        "\n",
        "## And comparing the World news sections"
      ]
    },
    {
      "cell_type": "markdown",
      "metadata": {
        "id": "EK7ADFVkHvwF",
        "colab_type": "text"
      },
      "source": [
        "## NY Times"
      ]
    },
    {
      "cell_type": "code",
      "metadata": {
        "id": "2FNKJIIcvmd_",
        "colab_type": "code",
        "colab": {}
      },
      "source": [
        "def get_ny_times_articles(key, month, year):\n",
        "    url = 'https://api.nytimes.com/svc/archive/v1/'+str(year)+'/'+str(month)+'.json?&api-key='+key\n",
        "    response = requests.get(url)\n",
        "    if response.status_code !=200:\n",
        "        print(\"API Error!\\n\")\n",
        "        return\n",
        "    return response.json()['response']['docs']"
      ],
      "execution_count": 21,
      "outputs": []
    },
    {
      "cell_type": "code",
      "metadata": {
        "id": "2nRCOCl1CECN",
        "colab_type": "code",
        "colab": {
          "base_uri": "https://localhost:8080/",
          "height": 34
        },
        "outputId": "49cdc066-e8c0-437c-cd50-5aeb027abcb4"
      },
      "source": [
        "ny_articles = get_ny_times_articles(ny_api_key, 1, 2020)\n",
        "# Exluding section 'Podcasts' since it does not have the key 'type_of_material'\n",
        "ny_articles = [a for a in ny_articles if a['section_name'] != 'Podcasts']\n",
        "# Consider Section 'World' of 'News'\n",
        "ny_articles = [a for a in ny_articles if a['type_of_material'] == 'News' and a['section_name'] == 'World']\n",
        "len(ny_articles)"
      ],
      "execution_count": 28,
      "outputs": [
        {
          "output_type": "execute_result",
          "data": {
            "text/plain": [
              "649"
            ]
          },
          "metadata": {
            "tags": []
          },
          "execution_count": 28
        }
      ]
    },
    {
      "cell_type": "code",
      "metadata": {
        "id": "fCXFn62CDMLJ",
        "colab_type": "code",
        "colab": {}
      },
      "source": [
        "# Get headlines\n",
        "ny_headlines = [a['headline']['main'] for a in ny_articles]"
      ],
      "execution_count": 29,
      "outputs": []
    },
    {
      "cell_type": "code",
      "metadata": {
        "id": "ut36ux0vR961",
        "colab_type": "code",
        "colab": {
          "base_uri": "https://localhost:8080/",
          "height": 187
        },
        "outputId": "84336d4f-80d5-432d-dc97-674c1633411a"
      },
      "source": [
        "ny_headlines[:10]"
      ],
      "execution_count": 30,
      "outputs": [
        {
          "output_type": "execute_result",
          "data": {
            "text/plain": [
              "['‘Nowhere Else to Go’: Some Defy Warnings to Flee Australian Fires',\n",
              " 'Netanyahu Seeks Immunity From Israeli Corruption Charges',\n",
              " 'Pika-Who? How Pokémon Go Confused the Canadian Military',\n",
              " 'As India Violence Gets Worse, Police Are Accused of Abusing Muslims',\n",
              " 'Israel Lauds Suleimani Assassination, Though With Caution',\n",
              " 'The Lesson of an Albanian Earthquake: The Balkans Aren’t Ready for the Big One',\n",
              " 'Israel Lauds Suleimani Assassination, Though With Caution',\n",
              " 'The Lesson of an Albanian Earthquake: The Balkans Aren’t Ready for the Big One',\n",
              " 'U.S. Strike in Iraq Kills Qassim Suleimani, Commander of Iranian Forces',\n",
              " 'What to Know About the Death of Iranian General Suleimani']"
            ]
          },
          "metadata": {
            "tags": []
          },
          "execution_count": 30
        }
      ]
    },
    {
      "cell_type": "markdown",
      "metadata": {
        "id": "xhe3fd8jHyZH",
        "colab_type": "text"
      },
      "source": [
        "## Guardian"
      ]
    },
    {
      "cell_type": "code",
      "metadata": {
        "id": "YBlC8mhtDENk",
        "colab_type": "code",
        "colab": {}
      },
      "source": [
        "def get_guardian_articles(key, month, year):\n",
        "    url = 'http://content.guardianapis.com/search'\n",
        "    params = {'from-date': str(year) + '-' + str(month) + '-01',\n",
        "            'to-date': str(year) + '-' + str(month) + '-31',\n",
        "            'show-fields': 'all',\n",
        "            'page':1,\n",
        "            'page-size': 50,\n",
        "            'api-key': key}\n",
        "    # Get number of pages\n",
        "    response = requests.get(url, params)\n",
        "    pages = response.json()['response']['pages']\n",
        "    articles = []\n",
        "    for p in range(pages):\n",
        "        params['page'] = p+1\n",
        "        response = requests.get(url, params)\n",
        "        articles+= (response.json()['response']['results'])\n",
        "        time.sleep(5) # Adding time delay to not hit API calls per minute limit\n",
        "    return articles\n"
      ],
      "execution_count": 32,
      "outputs": []
    },
    {
      "cell_type": "code",
      "metadata": {
        "id": "1WKR2WCtEb_l",
        "colab_type": "code",
        "colab": {}
      },
      "source": [
        "g_articles = get_guardian_articles(g_api_key, 1, 2020)"
      ],
      "execution_count": 33,
      "outputs": []
    },
    {
      "cell_type": "code",
      "metadata": {
        "id": "LDI6PXj6Kbz9",
        "colab_type": "code",
        "colab": {
          "base_uri": "https://localhost:8080/",
          "height": 34
        },
        "outputId": "26109964-c75a-4661-e806-9f27bc65731e"
      },
      "source": [
        "# Consider Section 'World news' of 'article'\n",
        "g_articles = [a for a in g_articles if a['type']=='article' and a['sectionName'] == 'World news']\n",
        "len(g_articles)"
      ],
      "execution_count": 34,
      "outputs": [
        {
          "output_type": "execute_result",
          "data": {
            "text/plain": [
              "660"
            ]
          },
          "metadata": {
            "tags": []
          },
          "execution_count": 34
        }
      ]
    },
    {
      "cell_type": "code",
      "metadata": {
        "id": "hKxR99GoK8tp",
        "colab_type": "code",
        "colab": {}
      },
      "source": [
        "g_headlines = [a['fields']['headline'] for a in g_articles]"
      ],
      "execution_count": 35,
      "outputs": []
    },
    {
      "cell_type": "code",
      "metadata": {
        "id": "NCX5hB3TRzI2",
        "colab_type": "code",
        "colab": {
          "base_uri": "https://localhost:8080/",
          "height": 187
        },
        "outputId": "6f4850dd-60fc-4b1b-8c33-928ede32618c"
      },
      "source": [
        "g_headlines[:10]"
      ],
      "execution_count": 36,
      "outputs": [
        {
          "output_type": "execute_result",
          "data": {
            "text/plain": [
              "['Coronavirus: first human transmission in Thailand as death toll hits 258',\n",
              " 'Coronavirus: US bars foreign nationals who have recently travelled to China',\n",
              " \"Weinstein trial: key witness describes film producer's 'Jekyll and Hyde' nature\",\n",
              " \"Religious freedom bill's latest draft 'unacceptable and does not protect human rights'\",\n",
              " 'Britons on evacuation flight from Wuhan tell of relief and confusion',\n",
              " 'Our face mask future: Do they really help beat flu, coronavirus and pollution?',\n",
              " 'US underprepared for coronavirus due to Trump cuts, say health experts',\n",
              " 'Families uneasy at proximity to coronavirus quarantine site',\n",
              " 'Syria: pro-Assad forces batter Idlib and spark fears of fresh crisis',\n",
              " 'Greece defends anti-migrant floating barrier amid growing criticism']"
            ]
          },
          "metadata": {
            "tags": []
          },
          "execution_count": 36
        }
      ]
    },
    {
      "cell_type": "code",
      "metadata": {
        "id": "IB6FQPwPSTB_",
        "colab_type": "code",
        "colab": {}
      },
      "source": [
        ""
      ],
      "execution_count": null,
      "outputs": []
    }
  ]
}